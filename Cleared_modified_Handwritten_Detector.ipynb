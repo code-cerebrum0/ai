{
  "cells": [
    {
      "cell_type": "markdown",
      "metadata": {
        "id": "view-in-github",
        "colab_type": "text"
      },
      "source": [
        "<a href=\"https://colab.research.google.com/github/code-cerebrum0/ai/blob/main/Cleared_modified_Handwritten_Detector.ipynb\" target=\"_parent\"><img src=\"https://colab.research.google.com/assets/colab-badge.svg\" alt=\"Open In Colab\"/></a>"
      ]
    },
    {
      "metadata": {
        "ExecuteTime": {
          "end_time": "2025-07-15T17:25:49.543040Z",
          "start_time": "2025-07-15T17:25:49.525878Z"
        },
        "id": "4e24df163870907"
      },
      "cell_type": "code",
      "source": [
        "# %pip install numpy pandas pillow scikit-learn kagglehub matplotlib ipython\n",
        "# %pip install torch torchvision torchaudio --index-url https://download.pytorch.org/whl/cu121\n",
        "# !conda install -c conda-forge background-generator -y\n"
      ],
      "id": "4e24df163870907",
      "outputs": [],
      "execution_count": 236
    },
    {
      "cell_type": "code",
      "source": [
        "# !pip install chromadb"
      ],
      "metadata": {
        "collapsed": true,
        "id": "9-R7RrEy2AMz"
      },
      "id": "9-R7RrEy2AMz",
      "execution_count": 271,
      "outputs": []
    },
    {
      "cell_type": "code",
      "source": [
        "import chromadb\n",
        "from chromadb.config import Settings\n",
        "import json"
      ],
      "metadata": {
        "id": "2LzlJp331_sQ"
      },
      "id": "2LzlJp331_sQ",
      "execution_count": 238,
      "outputs": []
    },
    {
      "metadata": {
        "ExecuteTime": {
          "end_time": "2025-07-15T17:25:49.589639Z",
          "start_time": "2025-07-15T17:25:49.575928Z"
        },
        "id": "a00a57b8e9168f4"
      },
      "cell_type": "code",
      "source": [
        "import os\n",
        "import pandas as pd\n",
        "import numpy as np\n",
        "import math\n",
        "import time\n",
        "import torch\n",
        "import torch.nn as nn\n",
        "import torch.nn.functional as F\n",
        "from torch.amp import autocast, GradScaler\n",
        "from torch.utils.data import Dataset, DataLoader, Subset, TensorDataset\n",
        "from sklearn.model_selection import train_test_split\n",
        "import matplotlib.pyplot as plt\n",
        "from PIL import Image\n",
        "from IPython.display import display"
      ],
      "id": "a00a57b8e9168f4",
      "outputs": [],
      "execution_count": 239
    },
    {
      "metadata": {
        "ExecuteTime": {
          "end_time": "2025-07-15T17:25:49.666711Z",
          "start_time": "2025-07-15T17:25:49.653121Z"
        },
        "colab": {
          "base_uri": "https://localhost:8080/"
        },
        "id": "c624fc57492587b5",
        "outputId": "58e4c6a0-813e-44e9-8986-38e3bbb1dbf9"
      },
      "cell_type": "code",
      "source": [
        "if torch.cuda.is_available():\n",
        "    device = torch.device(\"cuda\")\n",
        "    print(\"CUDA version:\", torch.version.cuda)\n",
        "    print(\"Device name:\", device)\n",
        "else:\n",
        "    device = torch.device(\"cpu\")\n",
        "    print(\"CUDA is not available\")\n",
        "    print(\"Device name:\", device)\n"
      ],
      "id": "c624fc57492587b5",
      "outputs": [
        {
          "output_type": "stream",
          "name": "stdout",
          "text": [
            "CUDA version: 12.4\n",
            "Device name: cuda\n"
          ]
        }
      ],
      "execution_count": 240
    },
    {
      "metadata": {
        "ExecuteTime": {
          "end_time": "2025-07-15T17:25:49.729365Z",
          "start_time": "2025-07-15T17:25:49.715782Z"
        },
        "id": "eb5c6c2e1bc9ea75"
      },
      "cell_type": "code",
      "source": [
        "class Display:\n",
        "    @staticmethod\n",
        "    def image_Display(image):\n",
        "        if torch.is_tensor(image):\n",
        "            image = image.detach().cpu().numpy()\n",
        "\n",
        "        if image.ndim == 1:\n",
        "            image = image.reshape(28,28)\n",
        "\n",
        "        image = image.astype('uint8')  # ensure proper display format\n",
        "\n",
        "        display(Image.fromarray(image, mode='L'))\n"
      ],
      "id": "eb5c6c2e1bc9ea75",
      "outputs": [],
      "execution_count": 241
    },
    {
      "metadata": {
        "ExecuteTime": {
          "end_time": "2025-07-15T17:25:49.790143Z",
          "start_time": "2025-07-15T17:25:49.776419Z"
        },
        "id": "9340c15e2e077a31"
      },
      "cell_type": "code",
      "source": [
        "# def convert_merged_csv_to_pt(train_csv_path, test_csv_path, pt_path):\n",
        "#     dtype_map = {'label': 'int64'} | {str(i): 'uint8' for i in range(1, 785)}\n",
        "#\n",
        "#     df_train = pd.read_csv(train_csv_path, dtype=dtype_map, low_memory=False)\n",
        "#     df_test = pd.read_csv(test_csv_path, dtype=dtype_map, low_memory=False)\n",
        "#\n",
        "#     df = pd.concat([df_train, df_test], ignore_index=True).sample(frac=1, random_state=42)\n",
        "#\n",
        "#     pixel_array = df.drop(columns='label').to_numpy(dtype='float32', copy=True)\n",
        "#     label_array = df['label'].to_numpy(dtype='int64', copy=True)\n",
        "#\n",
        "#     pixels = torch.from_numpy(pixel_array)\n",
        "#     labels = torch.from_numpy(label_array)\n",
        "#\n",
        "#     torch.save((pixels, labels), pt_path)\n",
        "#     print(f\"✅ Saved: {pt_path}\")\n",
        "#\n",
        "# convert_merged_csv_to_pt(\"Dataset/mnist_train.csv\", \"Dataset/mnist_test.csv\", \"Dataset/mnist.pt\")"
      ],
      "id": "9340c15e2e077a31",
      "outputs": [],
      "execution_count": 242
    },
    {
      "metadata": {
        "ExecuteTime": {
          "end_time": "2025-07-15T17:25:49.852094Z",
          "start_time": "2025-07-15T17:25:49.838786Z"
        },
        "id": "60a38375d9a65ce3"
      },
      "cell_type": "code",
      "source": [
        "class Dataset(Dataset):\n",
        "    def __init__(self, pt_path):\n",
        "        self.pixels, self.labels = torch.load(pt_path, weights_only=True)\n",
        "\n",
        "    def __getitem__(self, index):\n",
        "        return self.pixels[index], self.labels[index]\n",
        "\n",
        "    def __len__(self):\n",
        "        return self.labels.size(0)"
      ],
      "id": "60a38375d9a65ce3",
      "outputs": [],
      "execution_count": 243
    },
    {
      "metadata": {
        "ExecuteTime": {
          "end_time": "2025-07-15T17:25:49.913823Z",
          "start_time": "2025-07-15T17:25:49.901026Z"
        },
        "id": "db6bec0f3c180323"
      },
      "cell_type": "code",
      "source": [
        "# def benchmark_workers(pt_path=\"Dataset/mnist.pt\", max_workers=12, batch_size=512):\n",
        "#     dataset = Dataset(pt_path)\n",
        "#     indices = np.arange(len(dataset))\n",
        "#     train_idx, _ = train_test_split(indices, test_size=0.2, shuffle=True)\n",
        "#     train_set = Subset(dataset, train_idx)\n",
        "#\n",
        "#\n",
        "#     for nw in range(max_workers + 1):\n",
        "#         loader = DataLoader(train_set, batch_size=batch_size, shuffle=True,\n",
        "#                                              num_workers=nw, pin_memory=True,\n",
        "#                                              persistent_workers=(nw > 0))\n",
        "#         torch.cuda.synchronize() if torch.cuda.is_available() else None\n",
        "#         t0 = time.perf_counter()\n",
        "#\n",
        "#         for x, y in loader:\n",
        "#             pass  # simulate one epoch\n",
        "#\n",
        "#         torch.cuda.synchronize() if torch.cuda.is_available() else None\n",
        "#         t1 = time.perf_counter()\n",
        "#         print(f\"num_workers={nw:<2} | time: {t1 - t0:.3f} sec\")\n",
        "#\n",
        "# benchmark_workers()"
      ],
      "id": "db6bec0f3c180323",
      "outputs": [],
      "execution_count": 244
    },
    {
      "metadata": {
        "ExecuteTime": {
          "end_time": "2025-07-15T17:25:49.990921Z",
          "start_time": "2025-07-15T17:25:49.977268Z"
        },
        "id": "3dd6cf5f6453534d"
      },
      "cell_type": "code",
      "source": [
        "class Dataloaders:\n",
        "    def __init__(self, dataset_cls):\n",
        "        self.dataset_cls = dataset_cls\n",
        "\n",
        "    def get(self, pt_path, batch_size=5, test_size=0.1, num_workers=0):\n",
        "        dataset = self.dataset_cls(pt_path)\n",
        "\n",
        "        indices = np.arange(len(dataset))\n",
        "        train_idx, test_idx = train_test_split(indices, test_size=test_size, shuffle=True)\n",
        "\n",
        "        train_set = Subset(dataset, train_idx)\n",
        "        test_set = Subset(dataset, test_idx)\n",
        "\n",
        "        effective_batch_size = len(train_set) if batch_size is None else batch_size\n",
        "\n",
        "        train_loader = DataLoader(train_set, batch_size=effective_batch_size, shuffle=True,\n",
        "                                  num_workers=num_workers, pin_memory=True,\n",
        "                                  persistent_workers=(num_workers > 0))\n",
        "\n",
        "        test_loader = DataLoader(test_set, batch_size=len(test_set) if batch_size is None else batch_size,\n",
        "                                 shuffle=False, num_workers=num_workers, pin_memory=True,\n",
        "                                 persistent_workers=(num_workers > 0))\n",
        "\n",
        "        return train_loader, test_loader\n"
      ],
      "id": "3dd6cf5f6453534d",
      "outputs": [],
      "execution_count": 245
    },
    {
      "cell_type": "code",
      "source": [
        "from google.colab import drive\n",
        "drive.mount('/content/drive')"
      ],
      "metadata": {
        "colab": {
          "base_uri": "https://localhost:8080/"
        },
        "id": "5btOmw7sccf1",
        "outputId": "a6d07548-ee9e-4d59-ea98-c8b8af889564"
      },
      "id": "5btOmw7sccf1",
      "execution_count": 246,
      "outputs": [
        {
          "output_type": "stream",
          "name": "stdout",
          "text": [
            "Drive already mounted at /content/drive; to attempt to forcibly remount, call drive.mount(\"/content/drive\", force_remount=True).\n"
          ]
        }
      ]
    },
    {
      "metadata": {
        "ExecuteTime": {
          "end_time": "2025-07-15T17:25:51.647323Z",
          "start_time": "2025-07-15T17:25:50.056080Z"
        },
        "colab": {
          "base_uri": "https://localhost:8080/"
        },
        "id": "11c2a8a8b2b959e8",
        "outputId": "eb5aa59e-27b0-4a2b-9c5d-d4d65dc22f26"
      },
      "cell_type": "code",
      "source": [
        "loaders = Dataloaders(Dataset)\n",
        "\n",
        "train_loader, test_loader = loaders.get(\"/content/drive/MyDrive/Dataset/mnist.pt\", batch_size=100)\n",
        "\n",
        "for x, y in train_loader:\n",
        "    x = x.to(device, non_blocking=True)\n",
        "    y = y.to(device, non_blocking=True)\n",
        "\n",
        "\n",
        "    print(x.shape, y.shape)\n",
        "    break\n"
      ],
      "id": "11c2a8a8b2b959e8",
      "outputs": [
        {
          "output_type": "stream",
          "name": "stdout",
          "text": [
            "torch.Size([100, 784]) torch.Size([100])\n"
          ]
        }
      ],
      "execution_count": 247
    },
    {
      "metadata": {
        "ExecuteTime": {
          "end_time": "2025-07-15T17:25:51.725894Z",
          "start_time": "2025-07-15T17:25:51.711467Z"
        },
        "id": "96d7d38e7448051c"
      },
      "cell_type": "code",
      "source": [
        "class Scaling(nn.Module):\n",
        "    def __init__(self, input_tensor: torch.Tensor, bounds=(0.0, 255.0)):\n",
        "        super().__init__()\n",
        "\n",
        "        self.device = input_tensor.device\n",
        "        self.input_dtype = input_tensor.dtype\n",
        "\n",
        "        min_val = input_tensor.min()\n",
        "        max_val = input_tensor.max()\n",
        "\n",
        "        lower, upper = map(float, bounds)\n",
        "        delta_mm = max_val - min_val\n",
        "        delta_ul = upper - lower\n",
        "\n",
        "        a = delta_mm + delta_ul\n",
        "        b = lower * delta_mm + min_val * delta_ul\n",
        "        c = 2 * delta_mm * delta_ul\n",
        "\n",
        "        self.register_buffer(\"a\", a)\n",
        "        self.register_buffer(\"b\", b)\n",
        "        self.register_buffer(\"c\", c)\n",
        "\n",
        "    def forward(self, input_tensor: torch.Tensor):\n",
        "        if self.c == 0: return input_tensor\n",
        "        return (self.a * input_tensor - self.b) / self.c\n",
        "\n",
        "    @torch.no_grad()\n",
        "    def inverse(self, scaled_tensor: torch.Tensor):\n",
        "        if self.c == 0: return scaled_tensor\n",
        "        return (self.c * scaled_tensor + self.b) / self.a\n"
      ],
      "id": "96d7d38e7448051c",
      "outputs": [],
      "execution_count": 248
    },
    {
      "metadata": {
        "ExecuteTime": {
          "end_time": "2025-07-15T17:25:51.786718Z",
          "start_time": "2025-07-15T17:25:51.773096Z"
        },
        "id": "e73ffe0aba248cc3"
      },
      "cell_type": "code",
      "source": [
        "class Classifier(nn.Module):\n",
        "    def __init__(self, categories: int):\n",
        "        super().__init__()\n",
        "        self.categories = categories\n",
        "\n",
        "    def forward(self, labels: torch.Tensor) -> torch.Tensor:\n",
        "        return F.one_hot(labels.view(-1), num_classes=self.categories).float()\n",
        "\n",
        "    @torch.no_grad()\n",
        "    def inverse(self, one_hot_tensor: torch.Tensor) -> torch.Tensor:\n",
        "        return one_hot_tensor.argmax(dim=1, keepdim=True)\n"
      ],
      "id": "e73ffe0aba248cc3",
      "outputs": [],
      "execution_count": 249
    },
    {
      "metadata": {
        "ExecuteTime": {
          "end_time": "2025-07-15T17:25:53.260341Z",
          "start_time": "2025-07-15T17:25:51.836592Z"
        },
        "colab": {
          "base_uri": "https://localhost:8080/"
        },
        "id": "8c6739e09e48f39f",
        "outputId": "13bc9a0a-00dd-4c7e-9107-573fa6ead957"
      },
      "cell_type": "code",
      "source": [
        "for x, y in train_loader:\n",
        "    x = x.to(device, non_blocking=True)\n",
        "    y = y.to(device, non_blocking=True)\n",
        "\n",
        "\n",
        "    bounds = (0.0, 255.0)\n",
        "    Scaling1 = Scaling(x, bounds)\n",
        "    Classifier1 = Classifier(10).to(device, non_blocking=True)\n",
        "\n",
        "\n",
        "    print(x.shape, y.shape)\n",
        "    break"
      ],
      "id": "8c6739e09e48f39f",
      "outputs": [
        {
          "output_type": "stream",
          "name": "stdout",
          "text": [
            "torch.Size([100, 784]) torch.Size([100])\n"
          ]
        }
      ],
      "execution_count": 250
    },
    {
      "cell_type": "code",
      "source": [
        "#----\n",
        "#Global dictionary to hold activations for current epoch\n",
        "current_epoch_activations = {}\n",
        "\n",
        "# Per-epoch neuron value store\n",
        "all_epoch_activations = []  # List of dicts\n",
        "\n",
        "# Hook function\n",
        "def get_activation(name):\n",
        "    def hook(model, input, output):\n",
        "        if name not in current_epoch_activations:\n",
        "            current_epoch_activations[name] = []\n",
        "        current_epoch_activations[name].append(output.detach().cpu())  # Collect batch output\n",
        "    return hook\n",
        "\n",
        "#----"
      ],
      "metadata": {
        "id": "y3sR4U0GhjG0"
      },
      "id": "y3sR4U0GhjG0",
      "execution_count": 251,
      "outputs": []
    },
    {
      "cell_type": "code",
      "source": [
        "current_epoch_activations"
      ],
      "metadata": {
        "colab": {
          "base_uri": "https://localhost:8080/"
        },
        "id": "JeY8gIhYZWxW",
        "outputId": "8f4f55f6-6f68-44f6-e86b-bd91c429fbe5"
      },
      "id": "JeY8gIhYZWxW",
      "execution_count": 252,
      "outputs": [
        {
          "output_type": "execute_result",
          "data": {
            "text/plain": [
              "{}"
            ]
          },
          "metadata": {},
          "execution_count": 252
        }
      ]
    },
    {
      "cell_type": "code",
      "source": [
        "for layer_name, batch_outputs in current_epoch_activations.items():\n",
        "    print(f\"Layer: {layer_name}\")\n",
        "    for i, tensor in enumerate(batch_outputs):\n",
        "        print(f\"  Batch {i}: shape = {tensor.shape}\")\n"
      ],
      "metadata": {
        "id": "u__iFu0qkUH5"
      },
      "id": "u__iFu0qkUH5",
      "execution_count": 253,
      "outputs": []
    },
    {
      "metadata": {
        "ExecuteTime": {
          "end_time": "2025-07-15T17:25:53.323161Z",
          "start_time": "2025-07-15T17:25:53.309044Z"
        },
        "id": "39468dbc014eee32"
      },
      "cell_type": "code",
      "source": [
        "class NN(nn.Module):\n",
        "    def __init__(self):\n",
        "        super().__init__()\n",
        "        self.layer_sizes = [784, 121, 25, 10]\n",
        "        self.net = nn.Sequential(\n",
        "            nn.Linear(self.layer_sizes[0], self.layer_sizes[1], bias=True),\n",
        "            nn.Sigmoid(),                       # fused activation\n",
        "            nn.Linear(self.layer_sizes[1], self.layer_sizes[2], bias=True),\n",
        "            nn.ReLU(inplace=True),              # in‑place\n",
        "            nn.Linear(self.layer_sizes[2], self.layer_sizes[3], bias=True),\n",
        "            nn.Softmax(dim=1)\n",
        "        )\n",
        "\n",
        "        nn.init.xavier_uniform_(self.net[0].weight)\n",
        "        nn.init.uniform_(self.net[0].bias, -1.0/math.sqrt(self.layer_sizes[0]), 1.0/math.sqrt(self.layer_sizes[0]))\n",
        "        nn.init.kaiming_normal_(self.net[2].weight, nonlinearity='relu')\n",
        "        nn.init.uniform_(self.net[2].bias, -1.0/math.sqrt(self.layer_sizes[1]), 1.0/math.sqrt(self.layer_sizes[1]))\n",
        "        nn.init.xavier_normal_(self.net[4].weight)\n",
        "        nn.init.uniform_(self.net[4].bias, -1.0/math.sqrt(self.layer_sizes[2]), 1.0/math.sqrt(self.layer_sizes[2]))\n",
        "\n",
        "        self.loss_fn = nn.CrossEntropyLoss()\n",
        "\n",
        "    def forward(self, x):\n",
        "        x = x.contiguous()\n",
        "        return self.net(x)"
      ],
      "id": "39468dbc014eee32",
      "outputs": [],
      "execution_count": 254
    },
    {
      "metadata": {
        "ExecuteTime": {
          "end_time": "2025-07-15T17:25:54.609715Z",
          "start_time": "2025-07-15T17:25:53.371304Z"
        },
        "colab": {
          "base_uri": "https://localhost:8080/"
        },
        "id": "7e5d49dc6cce7bb7",
        "outputId": "bd860d46-8fb7-4193-a6c4-355604ff0adf"
      },
      "cell_type": "code",
      "source": [
        "for x, y in train_loader:\n",
        "    x = x.to(device, non_blocking=True)\n",
        "    y = y.to(device, non_blocking=True)\n",
        "\n",
        "    bounds = (0.0, 255.0)\n",
        "    Scaling1 = Scaling(x, bounds)\n",
        "    Classifier1 = Classifier(10).to(device, non_blocking=True)\n",
        "    net = NN().to(device, non_blocking=True)\n",
        "\n",
        "    x_scaled = Scaling1(x)\n",
        "    y_encoded = Classifier1(y)\n",
        "\n",
        "    yHAT = net(x_scaled)\n",
        "    loss = net.loss_fn(yHAT, y)\n",
        "    print(\"CrossEntropy Loss:\", loss.item())\n",
        "\n",
        "\n",
        "    print(x_scaled.shape, y_encoded.shape, yHAT.shape)\n",
        "    break\n"
      ],
      "id": "7e5d49dc6cce7bb7",
      "outputs": [
        {
          "output_type": "stream",
          "name": "stdout",
          "text": [
            "CrossEntropy Loss: 2.3081095218658447\n",
            "torch.Size([100, 784]) torch.Size([100, 10]) torch.Size([100, 10])\n"
          ]
        }
      ],
      "execution_count": 255
    },
    {
      "metadata": {
        "ExecuteTime": {
          "end_time": "2025-07-15T17:25:54.672220Z",
          "start_time": "2025-07-15T17:25:54.657614Z"
        },
        "id": "40fdf6e3b4ca6f8c"
      },
      "cell_type": "code",
      "source": [
        "class UltraFastTrainer:\n",
        "    def __init__(\n",
        "        self,\n",
        "        model: nn.Module,\n",
        "        loss_fn: nn.Module,\n",
        "        optimizer_cls=torch.optim.Adam,\n",
        "        lr=1e-3,\n",
        "        max_epochs=50,\n",
        "        clip_grad_norm=1.0,\n",
        "        use_amp=True,\n",
        "        use_tqdm=False,\n",
        "        save_path=None\n",
        "    ):\n",
        "        self.model = model.to(device)\n",
        "        self.loss_fn = loss_fn\n",
        "        self.optimizer = optimizer_cls(model.parameters(), lr=lr)\n",
        "        self.max_epochs = max_epochs\n",
        "        self.clip_grad_norm = clip_grad_norm\n",
        "        self.use_amp = use_amp\n",
        "        self.save_path = save_path\n",
        "        self.use_tqdm = use_tqdm\n",
        "\n",
        "        self.scaler_amp = GradScaler(enabled=use_amp)\n",
        "        self.loss_history = []\n",
        "\n",
        "    def _prefetch_loader(self, loader):\n",
        "        for x, y in loader:\n",
        "            yield x.to(device, non_blocking=True), y.to(device, non_blocking=True)\n",
        "\n",
        "    def train(self, train_loader):\n",
        "        self.model.train()\n",
        "\n",
        "        x_sample, _ = next(iter(train_loader))\n",
        "        scaler = Scaling(x_sample.to(device))\n",
        "\n",
        "        for epoch in range(1, self.max_epochs + 1):\n",
        "            start = time.perf_counter()\n",
        "            total_loss = 0.0\n",
        "            #-----\n",
        "            global current_epoch_activations\n",
        "            current_epoch_activations = {}  # Reset here\n",
        "            #-----\n",
        "            iterable = self._prefetch_loader(train_loader)\n",
        "            if self.use_tqdm:\n",
        "                iterable = tqdm(iterable, desc=f\"Epoch {epoch}\", leave=False)\n",
        "            i = 1\n",
        "            for x, y in iterable:\n",
        "                x = scaler(x)\n",
        "                print(f\"x shape:{i}-{x.size()}\")\n",
        "                #----\n",
        "                if 'input' not in current_epoch_activations:\n",
        "                  current_epoch_activations['input'] = []\n",
        "                current_epoch_activations['input'].append(x.detach().cpu())\n",
        "                #----\n",
        "                self.optimizer.zero_grad(set_to_none=True)\n",
        "\n",
        "                with autocast(device_type=device.type, enabled=self.use_amp):\n",
        "                    y_pred = self.model(x)\n",
        "                    loss = self.loss_fn(y_pred, y)\n",
        "\n",
        "                self.scaler_amp.scale(loss).backward()\n",
        "\n",
        "                if self.clip_grad_norm:\n",
        "                    self.scaler_amp.unscale_(self.optimizer)\n",
        "                    nn.utils.clip_grad_norm_(self.model.parameters(), self.clip_grad_norm)\n",
        "\n",
        "                self.scaler_amp.step(self.optimizer)\n",
        "                self.scaler_amp.update()\n",
        "                i +=1\n",
        "\n",
        "                total_loss += loss.item()\n",
        "                break\n",
        "            #------\n",
        "            # Moved here: after the whole epoch\n",
        "            epoch_result = {\n",
        "                layer_name: torch.cat(outputs, dim=0)\n",
        "                for layer_name, outputs in current_epoch_activations.items()\n",
        "            }\n",
        "\n",
        "            all_epoch_activations.append(epoch_result)\n",
        "\n",
        "            print(f\"\\n[Epoch {epoch}] Activation shapes:\")\n",
        "            for name, val in epoch_result.items():\n",
        "                print(f\"  {name}: {val.shape}\")\n",
        "            #------\n",
        "            avg_loss = total_loss / len(train_loader)\n",
        "            self.loss_history.append(avg_loss)\n",
        "\n",
        "            elapsed = time.perf_counter() - start\n",
        "            print(f\"Epoch {epoch:03d} | Loss: {avg_loss:.4f} | Time: {elapsed:.2f}s\")\n",
        "\n",
        "        if self.save_path:\n",
        "            torch.save(self.model.state_dict(), self.save_path)\n",
        "\n",
        "\n",
        "    def evaluate(self, test_loader):\n",
        "        self.model.eval()\n",
        "        correct, total = 0, 0\n",
        "\n",
        "        scaler = Scaling(next(iter(test_loader))[0].to(device))\n",
        "\n",
        "        with torch.no_grad():\n",
        "            for x, y in self._prefetch_loader(test_loader):\n",
        "                x = scaler(x)\n",
        "                pred = self.model(x).argmax(dim=1)\n",
        "                correct += (pred == y.view(-1)).sum().item()\n",
        "                total += y.size(0)\n",
        "\n",
        "        acc = correct / total\n",
        "        print(f\"Test Accuracy: {acc*100:.2f}%\")\n",
        "        return acc\n",
        "\n",
        "    def plot_loss(self):\n",
        "        plt.plot(self.loss_history)\n",
        "        plt.title(\"Loss Curve\")\n",
        "        plt.xlabel(\"Epoch\")\n",
        "        plt.ylabel(\"Loss\")\n",
        "        plt.grid(True)\n",
        "        plt.tight_layout()\n",
        "        plt.show()\n"
      ],
      "id": "40fdf6e3b4ca6f8c",
      "outputs": [],
      "execution_count": 256
    },
    {
      "metadata": {
        "ExecuteTime": {
          "end_time": "2025-07-15T17:28:10.646670Z",
          "start_time": "2025-07-15T17:25:54.720525Z"
        },
        "colab": {
          "base_uri": "https://localhost:8080/",
          "height": 1000
        },
        "id": "42e64e84209dd5b4",
        "outputId": "21ae6e97-daa0-43ef-9a65-c5bd2a489261"
      },
      "cell_type": "code",
      "source": [
        "model = NN()\n",
        "#----\n",
        "for idx, layer in enumerate(model.net):\n",
        "    if isinstance(layer, nn.Linear):\n",
        "        layer.register_forward_hook(get_activation(f\"layer_{idx}\"))\n",
        "\n",
        "#----\n",
        "\n",
        "trainer = UltraFastTrainer(model, nn.CrossEntropyLoss(), max_epochs=5, use_amp=True)\n",
        "\n",
        "trainer.train(train_loader)\n",
        "trainer.evaluate(test_loader)\n",
        "trainer.plot_loss()\n"
      ],
      "id": "42e64e84209dd5b4",
      "outputs": [
        {
          "output_type": "stream",
          "name": "stdout",
          "text": [
            "x shape:1-torch.Size([100, 784])\n",
            "\n",
            "[Epoch 1] Activation shapes:\n",
            "  input: torch.Size([100, 784])\n",
            "  layer_0: torch.Size([100, 121])\n",
            "  layer_2: torch.Size([100, 25])\n",
            "  layer_4: torch.Size([100, 10])\n",
            "Epoch 001 | Loss: 0.0037 | Time: 0.03s\n",
            "x shape:1-torch.Size([100, 784])\n",
            "\n",
            "[Epoch 2] Activation shapes:\n",
            "  input: torch.Size([100, 784])\n",
            "  layer_0: torch.Size([100, 121])\n",
            "  layer_2: torch.Size([100, 25])\n",
            "  layer_4: torch.Size([100, 10])\n",
            "Epoch 002 | Loss: 0.0037 | Time: 0.01s\n",
            "x shape:1-torch.Size([100, 784])\n",
            "\n",
            "[Epoch 3] Activation shapes:\n",
            "  input: torch.Size([100, 784])\n",
            "  layer_0: torch.Size([100, 121])\n",
            "  layer_2: torch.Size([100, 25])\n",
            "  layer_4: torch.Size([100, 10])\n",
            "Epoch 003 | Loss: 0.0036 | Time: 0.01s\n",
            "x shape:1-torch.Size([100, 784])\n",
            "\n",
            "[Epoch 4] Activation shapes:\n",
            "  input: torch.Size([100, 784])\n",
            "  layer_0: torch.Size([100, 121])\n",
            "  layer_2: torch.Size([100, 25])\n",
            "  layer_4: torch.Size([100, 10])\n",
            "Epoch 004 | Loss: 0.0036 | Time: 0.01s\n",
            "x shape:1-torch.Size([100, 784])\n",
            "\n",
            "[Epoch 5] Activation shapes:\n",
            "  input: torch.Size([100, 784])\n",
            "  layer_0: torch.Size([100, 121])\n",
            "  layer_2: torch.Size([100, 25])\n",
            "  layer_4: torch.Size([100, 10])\n",
            "Epoch 005 | Loss: 0.0036 | Time: 0.01s\n",
            "Test Accuracy: 25.49%\n"
          ]
        },
        {
          "output_type": "display_data",
          "data": {
            "text/plain": [
              "<Figure size 640x480 with 1 Axes>"
            ],
            "image/png": "[encoded data removed]"
          },
          "metadata": {}
        }
      ],
      "execution_count": 257
    },
    {
      "cell_type": "markdown",
      "source": [
        "Visualisation of the stored data"
      ],
      "metadata": {
        "id": "6hY2E-OmJUWH"
      },
      "id": "6hY2E-OmJUWH"
    },
    {
      "cell_type": "code",
      "source": [
        "import matplotlib.pyplot as plt\n",
        "\n",
        "def show_activation_grid(activation_dict, sample_idx):\n",
        "    layer_shapes = {\n",
        "        'input': (28, 28),\n",
        "        'layer_0': (11, 11),\n",
        "        'layer_2': (5, 5),\n",
        "        'layer_4': (1, 10)\n",
        "    }\n",
        "\n",
        "    num_layers = len(layer_shapes)\n",
        "    plt.figure(figsize=(10, 2.5))\n",
        "\n",
        "    for i, (layer_name, shape) in enumerate(layer_shapes.items()):\n",
        "        activation = activation_dict[layer_name][sample_idx]\n",
        "\n",
        "        # ✅ Convert to float32 before reshaping and plotting\n",
        "        activation = activation.to(torch.float32).numpy().reshape(shape)\n",
        "        plt.suptitle(f\"Epoch Index = {epoch_idx}, Sample Index = {sample_idx}\")\n",
        "        plt.subplot(1, num_layers, i + 1)\n",
        "        plt.imshow(activation, cmap='gray')\n",
        "        plt.title(layer_name)\n",
        "\n",
        "        plt.axis('off')\n",
        "\n",
        "\n",
        "    plt.tight_layout()\n",
        "    plt.show()"
      ],
      "metadata": {
        "id": "KymsITkXJbip"
      },
      "id": "KymsITkXJbip",
      "execution_count": 258,
      "outputs": []
    },
    {
      "cell_type": "code",
      "source": [
        "\n",
        "epoch_idx = 4    # Which epoch to visualize\n",
        "sample_idx = 5     # Which sample (out of 63700) to visualize\n"
      ],
      "metadata": {
        "id": "1-E8if_XLnuK"
      },
      "id": "1-E8if_XLnuK",
      "execution_count": 259,
      "outputs": []
    },
    {
      "cell_type": "code",
      "source": [
        "show_activation_grid(all_epoch_activations[epoch_idx], sample_idx)\n"
      ],
      "metadata": {
        "colab": {
          "base_uri": "https://localhost:8080/",
          "height": 267
        },
        "id": "lpJ-v_h9Jm49",
        "outputId": "8b96eaa4-6217-47af-9266-12d55882754e"
      },
      "id": "lpJ-v_h9Jm49",
      "execution_count": 260,
      "outputs": [
        {
          "output_type": "display_data",
          "data": {
            "text/plain": [
              "<Figure size 1000x250 with 4 Axes>"
            ],
            "image/png": "[encoded data removed]"
          },
          "metadata": {}
        }
      ]
    },
    {
      "cell_type": "code",
      "source": [
        "# for epoch_idx in range(5):\n",
        "#   for num in range(11):\n",
        "    # show_activation_grid(all_epoch_activations[epoch_idx], num)"
      ],
      "metadata": {
        "id": "MG85iTApJovF"
      },
      "id": "MG85iTApJovF",
      "execution_count": 270,
      "outputs": []
    },
    {
      "cell_type": "markdown",
      "source": [
        "Storing in Vector Database (Chroma):"
      ],
      "metadata": {
        "id": "-Gk2DpaVQAIZ"
      },
      "id": "-Gk2DpaVQAIZ"
    },
    {
      "cell_type": "code",
      "source": [
        "# Required variables\n",
        "numberofepoch = 5\n",
        "layers = ['input', 'layer_0', 'layer_2', 'layer_4']"
      ],
      "metadata": {
        "id": "wfYb_RRO_Rvk"
      },
      "id": "wfYb_RRO_Rvk",
      "execution_count": 262,
      "outputs": []
    },
    {
      "cell_type": "code",
      "source": [
        "nested = {}\n",
        "for i in range(numberofepoch):\n",
        "  nested[f'e{i}'] = {\n",
        "    'l0': all_epoch_activations[i]['input'].tolist(),\n",
        "    'l1': all_epoch_activations[i]['layer_0'].tolist(),\n",
        "    'l2': all_epoch_activations[i]['layer_2'].tolist(),\n",
        "    'l3': all_epoch_activations[i]['layer_4'].tolist()\n",
        "}\n"
      ],
      "metadata": {
        "id": "-w2k-72--9Vz"
      },
      "id": "-w2k-72--9Vz",
      "execution_count": 263,
      "outputs": []
    },
    {
      "cell_type": "code",
      "source": [
        "metadata = {\n",
        "    'activations' : json.dumps(nested)\n",
        "}"
      ],
      "metadata": {
        "id": "IYCf3p-lIeCX"
      },
      "id": "IYCf3p-lIeCX",
      "execution_count": 264,
      "outputs": []
    },
    {
      "cell_type": "code",
      "source": [
        "client = chromadb.Client()\n",
        "collection = client.get_or_create_collection(name = 'neuronValues')"
      ],
      "metadata": {
        "id": "8aqGoiC3Ivo5"
      },
      "id": "8aqGoiC3Ivo5",
      "execution_count": 265,
      "outputs": []
    },
    {
      "cell_type": "code",
      "source": [
        "collection.add(\n",
        "    ids = 'Neuron Values',\n",
        "    documents= \"This stores the value of neurons of each layer per epoch\",\n",
        "    metadatas= metadata\n",
        ")"
      ],
      "metadata": {
        "id": "cJck32DhJPOR"
      },
      "id": "cJck32DhJPOR",
      "execution_count": 266,
      "outputs": []
    },
    {
      "cell_type": "code",
      "source": [
        "results = collection.get()\n"
      ],
      "metadata": {
        "id": "lmNAfoT8KEdD"
      },
      "id": "lmNAfoT8KEdD",
      "execution_count": 267,
      "outputs": []
    },
    {
      "cell_type": "code",
      "source": [
        "def get_epoch_data(results, epoch=None, layer=None):\n",
        "\n",
        "    activations = json.loads(results[\"metadatas\"][0][\"activations\"])\n",
        "\n",
        "    if epoch and layer:\n",
        "        return activations.get(epoch, {}).get(layer)\n",
        "\n",
        "    elif epoch:\n",
        "        return activations.get(epoch, {})\n",
        "\n",
        "    elif layer:\n",
        "        return {ep: data[layer] for ep, data in activations.items() if layer in data}\n",
        "\n",
        "    else:\n",
        "        return activations\n"
      ],
      "metadata": {
        "id": "XN07CY3XKVfG"
      },
      "id": "XN07CY3XKVfG",
      "execution_count": 268,
      "outputs": []
    },
    {
      "cell_type": "code",
      "source": [
        "get_epoch_data(results,'e1','l3')"
      ],
      "metadata": {
        "colab": {
          "base_uri": "https://localhost:8080/"
        },
        "id": "5Aqb_1LQKZT7",
        "outputId": "5c8af285-4957-424d-b67c-73b6b23b0ce1"
      },
      "id": "5Aqb_1LQKZT7",
      "execution_count": 269,
      "outputs": [
        {
          "output_type": "execute_result",
          "data": {
            "text/plain": [
              "[[-0.193603515625,\n",
              "  -0.52880859375,\n",
              "  -0.67919921875,\n",
              "  -0.623046875,\n",
              "  -0.043701171875,\n",
              "  0.09039306640625,\n",
              "  -0.09771728515625,\n",
              "  -0.80517578125,\n",
              "  -0.059234619140625,\n",
              "  -0.05029296875],\n",
              " [-0.264404296875,\n",
              "  -0.31201171875,\n",
              "  -0.7900390625,\n",
              "  -0.6005859375,\n",
              "  -0.08441162109375,\n",
              "  0.1337890625,\n",
              "  -0.0421142578125,\n",
              "  -0.7275390625,\n",
              "  -0.16796875,\n",
              "  0.180419921875],\n",
              " [-0.1170654296875,\n",
              "  -0.6904296875,\n",
              "  -0.59765625,\n",
              "  -0.53466796875,\n",
              "  0.217041015625,\n",
              "  0.329345703125,\n",
              "  -0.12274169921875,\n",
              "  -0.6826171875,\n",
              "  0.06890869140625,\n",
              "  -0.296875],\n",
              " [-0.1715087890625,\n",
              "  -0.380126953125,\n",
              "  -0.6240234375,\n",
              "  -0.630859375,\n",
              "  -0.037628173828125,\n",
              "  0.0692138671875,\n",
              "  -0.02569580078125,\n",
              "  -0.80615234375,\n",
              "  -0.04388427734375,\n",
              "  0.08203125],\n",
              " [-0.24072265625,\n",
              "  -0.3857421875,\n",
              "  -0.802734375,\n",
              "  -0.591796875,\n",
              "  -0.256103515625,\n",
              "  -0.05328369140625,\n",
              "  -0.09930419921875,\n",
              "  -0.8232421875,\n",
              "  -0.2353515625,\n",
              "  0.145751953125],\n",
              " [-0.1888427734375,\n",
              "  -0.24951171875,\n",
              "  -0.69921875,\n",
              "  -0.501953125,\n",
              "  -0.08935546875,\n",
              "  0.0132293701171875,\n",
              "  -0.10845947265625,\n",
              "  -0.7685546875,\n",
              "  -0.234375,\n",
              "  0.195068359375],\n",
              " [-0.203369140625,\n",
              "  -0.433837890625,\n",
              "  -0.66015625,\n",
              "  -0.7041015625,\n",
              "  -0.223388671875,\n",
              "  0.04290771484375,\n",
              "  -0.09002685546875,\n",
              "  -0.92626953125,\n",
              "  -0.190185546875,\n",
              "  0.007595062255859375],\n",
              " [-0.2227783203125,\n",
              "  -0.29541015625,\n",
              "  -0.62939453125,\n",
              "  -0.7783203125,\n",
              "  -0.29248046875,\n",
              "  0.1141357421875,\n",
              "  -0.07342529296875,\n",
              "  -1.1201171875,\n",
              "  -0.36328125,\n",
              "  -0.03912353515625],\n",
              " [-0.163818359375,\n",
              "  -0.396240234375,\n",
              "  -0.72314453125,\n",
              "  -0.6494140625,\n",
              "  -0.077392578125,\n",
              "  0.1956787109375,\n",
              "  -0.1195068359375,\n",
              "  -0.96337890625,\n",
              "  -0.260498046875,\n",
              "  0.11480712890625],\n",
              " [-0.1658935546875,\n",
              "  -0.3388671875,\n",
              "  -0.61865234375,\n",
              "  -0.57958984375,\n",
              "  -0.038970947265625,\n",
              "  0.0638427734375,\n",
              "  -0.05621337890625,\n",
              "  -0.81640625,\n",
              "  -0.166259765625,\n",
              "  0.2159423828125]]"
            ]
          },
          "metadata": {},
          "execution_count": 269
        }
      ]
    }
  ],
  "metadata": {
    "kernelspec": {
      "display_name": "Python [conda env:base] *",
      "language": "python",
      "name": "conda-base-py"
    },
    "language_info": {
      "codemirror_mode": {
        "name": "ipython",
        "version": 2
      },
      "file_extension": ".py",
      "mimetype": "text/x-python",
      "name": "python",
      "nbconvert_exporter": "python",
      "pygments_lexer": "ipython2",
      "version": "2.7.6"
    },
    "colab": {
      "provenance": [],
      "gpuType": "T4",
      "include_colab_link": true
    },
    "accelerator": "GPU"
  },
  "nbformat": 4,
  "nbformat_minor": 5
}