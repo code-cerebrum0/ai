{
  "cells": [
    {
      "cell_type": "code",
      "execution_count": 29,
      "id": "4e24df163870907",
      "metadata": {
        "ExecuteTime": {
          "end_time": "2025-07-15T17:05:20.374517Z",
          "start_time": "2025-07-15T17:05:20.356038Z"
        },
        "id": "4e24df163870907"
      },
      "outputs": [],
      "source": [
        "# %pip install numpy pandas pillow scikit-learn kagglehub matplotlib ipython\n",
        "# %pip install torch torchvision torchaudio --index-url https://download.pytorch.org/whl/cu121\n",
        "# !conda install -c conda-forge background-generator -y\n"
      ]
    },
    {
      "cell_type": "code",
      "source": [
        "from google.colab import drive\n",
        "drive.mount('/content/drive')"
      ],
      "metadata": {
        "colab": {
          "base_uri": "https://localhost:8080/"
        },
        "id": "3549YGT_644X",
        "outputId": "bcd8ad6f-1e11-4a83-c847-bff5db1b51cb"
      },
      "id": "3549YGT_644X",
      "execution_count": 30,
      "outputs": [
        {
          "output_type": "stream",
          "name": "stdout",
          "text": [
            "Drive already mounted at /content/drive; to attempt to forcibly remount, call drive.mount(\"/content/drive\", force_remount=True).\n"
          ]
        }
      ]
    },
    {
      "cell_type": "code",
      "execution_count": 31,
      "id": "a00a57b8e9168f4",
      "metadata": {
        "ExecuteTime": {
          "end_time": "2025-07-15T17:05:20.467255Z",
          "start_time": "2025-07-15T17:05:20.438920Z"
        },
        "id": "a00a57b8e9168f4"
      },
      "outputs": [],
      "source": [
        "import os\n",
        "import pandas as pd\n",
        "import numpy as np\n",
        "import math\n",
        "import time\n",
        "import torch\n",
        "import torch.nn as nn\n",
        "import torch.nn.functional as F\n",
        "from torch.amp import autocast, GradScaler\n",
        "from torch.utils.data import Dataset, DataLoader, Subset, TensorDataset\n",
        "from sklearn.model_selection import train_test_split\n",
        "import matplotlib.pyplot as plt\n",
        "from PIL import Image\n",
        "from IPython.display import display"
      ]
    },
    {
      "cell_type": "code",
      "execution_count": 32,
      "id": "c624fc57492587b5",
      "metadata": {
        "ExecuteTime": {
          "end_time": "2025-07-15T17:05:20.557967Z",
          "start_time": "2025-07-15T17:05:20.545446Z"
        },
        "colab": {
          "base_uri": "https://localhost:8080/"
        },
        "id": "c624fc57492587b5",
        "outputId": "630bfed0-4c0b-440c-b169-b9e8d340097d"
      },
      "outputs": [
        {
          "output_type": "stream",
          "name": "stdout",
          "text": [
            "CUDA is not available\n",
            "Device name: cpu\n"
          ]
        }
      ],
      "source": [
        "if torch.cuda.is_available():\n",
        "    device = torch.device(\"cuda\")\n",
        "    print(\"CUDA version:\", torch.version.cuda)\n",
        "    print(\"Device name:\", device)\n",
        "else:\n",
        "    device = torch.device(\"cpu\")\n",
        "    print(\"CUDA is not available\")\n",
        "    print(\"Device name:\", device)\n"
      ]
    },
    {
      "cell_type": "code",
      "execution_count": 33,
      "id": "eb5c6c2e1bc9ea75",
      "metadata": {
        "ExecuteTime": {
          "end_time": "2025-07-15T17:05:20.651759Z",
          "start_time": "2025-07-15T17:05:20.639165Z"
        },
        "id": "eb5c6c2e1bc9ea75"
      },
      "outputs": [],
      "source": [
        "class Display:\n",
        "    @staticmethod\n",
        "    def image_Display(image):\n",
        "        if torch.is_tensor(image):\n",
        "            image = image.detach().cpu().numpy()\n",
        "\n",
        "        if image.ndim == 1:\n",
        "            image = image.reshape(28, 28)\n",
        "\n",
        "        image = image.astype('uint8')  # ensure proper display format\n",
        "\n",
        "        display(Image.fromarray(image, mode='L'))\n"
      ]
    },
    {
      "cell_type": "code",
      "execution_count": 34,
      "id": "9340c15e2e077a31",
      "metadata": {
        "ExecuteTime": {
          "end_time": "2025-07-15T17:05:20.743717Z",
          "start_time": "2025-07-15T17:05:20.730581Z"
        },
        "id": "9340c15e2e077a31"
      },
      "outputs": [],
      "source": [
        "# def convert_merged_csv_to_pt(train_csv_path, test_csv_path, pt_path):\n",
        "#     dtype_map = {'label': 'int64'} | {str(i): 'uint8' for i in range(1, 785)}\n",
        "\n",
        "#     df_train = pd.read_csv(train_csv_path, dtype=dtype_map, low_memory=False)\n",
        "#     df_test = pd.read_csv(test_csv_path, dtype=dtype_map, low_memory=False)\n",
        "\n",
        "#     df = pd.concat([df_train, df_test], ignore_index=True).sample(frac=1, random_state=42)\n",
        "\n",
        "#     pixel_array = df.drop(columns='label').to_numpy(dtype='float32', copy=True)\n",
        "#     label_array = df['label'].to_numpy(dtype='int64', copy=True)\n",
        "\n",
        "#     pixels = torch.from_numpy(pixel_array)\n",
        "#     labels = torch.from_numpy(label_array)\n",
        "\n",
        "#     torch.save((pixels, labels), pt_path)\n",
        "#     print(f\"✅ Saved: {pt_path}\")\n",
        "\n",
        "# convert_merged_csv_to_pt(\"Dataset/mnist_train.csv\", \"Dataset/mnist_test.csv\", \"Dataset/mnist.pt\")"
      ]
    },
    {
      "cell_type": "code",
      "execution_count": 35,
      "id": "60a38375d9a65ce3",
      "metadata": {
        "ExecuteTime": {
          "end_time": "2025-07-15T17:05:20.838024Z",
          "start_time": "2025-07-15T17:05:20.824425Z"
        },
        "id": "60a38375d9a65ce3"
      },
      "outputs": [],
      "source": [
        "class Dataset(Dataset):\n",
        "    def __init__(self, pt_path):\n",
        "        self.pixels, self.labels = torch.load(pt_path, weights_only=True)\n",
        "\n",
        "    def __getitem__(self, index):\n",
        "        return self.pixels[index], self.labels[index]\n",
        "\n",
        "    def __len__(self):\n",
        "        return self.labels.size(0)"
      ]
    },
    {
      "cell_type": "code",
      "execution_count": 36,
      "id": "db6bec0f3c180323",
      "metadata": {
        "ExecuteTime": {
          "end_time": "2025-07-15T17:05:20.915752Z",
          "start_time": "2025-07-15T17:05:20.903495Z"
        },
        "colab": {
          "base_uri": "https://localhost:8080/"
        },
        "id": "db6bec0f3c180323",
        "outputId": "d9de49dd-1ccf-4935-f3bd-45c9be663fcb"
      },
      "outputs": [
        {
          "output_type": "stream",
          "name": "stdout",
          "text": [
            "\n",
            "Benchmarking num_workers from 0 to 12...\n",
            "\n",
            "num_workers=0  | time: 2.193 sec\n",
            "num_workers=1  | time: 2.743 sec\n",
            "num_workers=2  | time: 2.297 sec\n"
          ]
        },
        {
          "output_type": "stream",
          "name": "stderr",
          "text": [
            "/usr/local/lib/python3.11/dist-packages/torch/utils/data/dataloader.py:624: UserWarning: This DataLoader will create 3 worker processes in total. Our suggested max number of worker in current system is 2, which is smaller than what this DataLoader is going to create. Please be aware that excessive worker creation might get DataLoader running slow or even freeze, lower the worker number to avoid potential slowness/freeze if necessary.\n",
            "  warnings.warn(\n"
          ]
        },
        {
          "output_type": "stream",
          "name": "stdout",
          "text": [
            "num_workers=3  | time: 2.251 sec\n"
          ]
        },
        {
          "output_type": "stream",
          "name": "stderr",
          "text": [
            "/usr/local/lib/python3.11/dist-packages/torch/utils/data/dataloader.py:624: UserWarning: This DataLoader will create 4 worker processes in total. Our suggested max number of worker in current system is 2, which is smaller than what this DataLoader is going to create. Please be aware that excessive worker creation might get DataLoader running slow or even freeze, lower the worker number to avoid potential slowness/freeze if necessary.\n",
            "  warnings.warn(\n"
          ]
        },
        {
          "output_type": "stream",
          "name": "stdout",
          "text": [
            "num_workers=4  | time: 3.401 sec\n"
          ]
        },
        {
          "output_type": "stream",
          "name": "stderr",
          "text": [
            "/usr/local/lib/python3.11/dist-packages/torch/utils/data/dataloader.py:624: UserWarning: This DataLoader will create 5 worker processes in total. Our suggested max number of worker in current system is 2, which is smaller than what this DataLoader is going to create. Please be aware that excessive worker creation might get DataLoader running slow or even freeze, lower the worker number to avoid potential slowness/freeze if necessary.\n",
            "  warnings.warn(\n"
          ]
        },
        {
          "output_type": "stream",
          "name": "stdout",
          "text": [
            "num_workers=5  | time: 3.093 sec\n"
          ]
        },
        {
          "output_type": "stream",
          "name": "stderr",
          "text": [
            "/usr/local/lib/python3.11/dist-packages/torch/utils/data/dataloader.py:624: UserWarning: This DataLoader will create 6 worker processes in total. Our suggested max number of worker in current system is 2, which is smaller than what this DataLoader is going to create. Please be aware that excessive worker creation might get DataLoader running slow or even freeze, lower the worker number to avoid potential slowness/freeze if necessary.\n",
            "  warnings.warn(\n"
          ]
        },
        {
          "output_type": "stream",
          "name": "stdout",
          "text": [
            "num_workers=6  | time: 2.864 sec\n"
          ]
        },
        {
          "output_type": "stream",
          "name": "stderr",
          "text": [
            "/usr/local/lib/python3.11/dist-packages/torch/utils/data/dataloader.py:624: UserWarning: This DataLoader will create 7 worker processes in total. Our suggested max number of worker in current system is 2, which is smaller than what this DataLoader is going to create. Please be aware that excessive worker creation might get DataLoader running slow or even freeze, lower the worker number to avoid potential slowness/freeze if necessary.\n",
            "  warnings.warn(\n"
          ]
        },
        {
          "output_type": "stream",
          "name": "stdout",
          "text": [
            "num_workers=7  | time: 2.792 sec\n"
          ]
        },
        {
          "output_type": "stream",
          "name": "stderr",
          "text": [
            "/usr/local/lib/python3.11/dist-packages/torch/utils/data/dataloader.py:624: UserWarning: This DataLoader will create 8 worker processes in total. Our suggested max number of worker in current system is 2, which is smaller than what this DataLoader is going to create. Please be aware that excessive worker creation might get DataLoader running slow or even freeze, lower the worker number to avoid potential slowness/freeze if necessary.\n",
            "  warnings.warn(\n"
          ]
        },
        {
          "output_type": "stream",
          "name": "stdout",
          "text": [
            "num_workers=8  | time: 3.479 sec\n"
          ]
        },
        {
          "output_type": "stream",
          "name": "stderr",
          "text": [
            "/usr/local/lib/python3.11/dist-packages/torch/utils/data/dataloader.py:624: UserWarning: This DataLoader will create 9 worker processes in total. Our suggested max number of worker in current system is 2, which is smaller than what this DataLoader is going to create. Please be aware that excessive worker creation might get DataLoader running slow or even freeze, lower the worker number to avoid potential slowness/freeze if necessary.\n",
            "  warnings.warn(\n"
          ]
        },
        {
          "output_type": "stream",
          "name": "stdout",
          "text": [
            "num_workers=9  | time: 4.482 sec\n"
          ]
        },
        {
          "output_type": "stream",
          "name": "stderr",
          "text": [
            "/usr/local/lib/python3.11/dist-packages/torch/utils/data/dataloader.py:624: UserWarning: This DataLoader will create 10 worker processes in total. Our suggested max number of worker in current system is 2, which is smaller than what this DataLoader is going to create. Please be aware that excessive worker creation might get DataLoader running slow or even freeze, lower the worker number to avoid potential slowness/freeze if necessary.\n",
            "  warnings.warn(\n"
          ]
        },
        {
          "output_type": "stream",
          "name": "stdout",
          "text": [
            "num_workers=10 | time: 3.296 sec\n"
          ]
        },
        {
          "output_type": "stream",
          "name": "stderr",
          "text": [
            "/usr/local/lib/python3.11/dist-packages/torch/utils/data/dataloader.py:624: UserWarning: This DataLoader will create 11 worker processes in total. Our suggested max number of worker in current system is 2, which is smaller than what this DataLoader is going to create. Please be aware that excessive worker creation might get DataLoader running slow or even freeze, lower the worker number to avoid potential slowness/freeze if necessary.\n",
            "  warnings.warn(\n"
          ]
        },
        {
          "output_type": "stream",
          "name": "stdout",
          "text": [
            "num_workers=11 | time: 4.387 sec\n"
          ]
        },
        {
          "output_type": "stream",
          "name": "stderr",
          "text": [
            "/usr/local/lib/python3.11/dist-packages/torch/utils/data/dataloader.py:624: UserWarning: This DataLoader will create 12 worker processes in total. Our suggested max number of worker in current system is 2, which is smaller than what this DataLoader is going to create. Please be aware that excessive worker creation might get DataLoader running slow or even freeze, lower the worker number to avoid potential slowness/freeze if necessary.\n",
            "  warnings.warn(\n"
          ]
        },
        {
          "output_type": "stream",
          "name": "stdout",
          "text": [
            "num_workers=12 | time: 4.995 sec\n"
          ]
        }
      ],
      "source": [
        "def benchmark_workers(pt_path=\"Dataset/mnist.pt\", max_workers=12, batch_size=512):\n",
        "    dataset = Dataset(pt_path)\n",
        "    indices = np.arange(len(dataset))\n",
        "    train_idx, _ = train_test_split(indices, test_size=0.2, shuffle=True)\n",
        "    train_set = Subset(dataset, train_idx)\n",
        "\n",
        "    print(f\"\\nBenchmarking num_workers from 0 to {max_workers}...\\n\")\n",
        "\n",
        "    for nw in range(max_workers + 1):\n",
        "        loader = DataLoader(train_set, batch_size=batch_size, shuffle=True,\n",
        "                                             num_workers=nw, pin_memory=True,\n",
        "                                             persistent_workers=(nw > 0))\n",
        "        torch.cuda.synchronize() if torch.cuda.is_available() else None\n",
        "        t0 = time.perf_counter()\n",
        "\n",
        "        for x, y in loader:\n",
        "            pass  # simulate one epoch\n",
        "\n",
        "        torch.cuda.synchronize() if torch.cuda.is_available() else None\n",
        "        t1 = time.perf_counter()\n",
        "        print(f\"num_workers={nw:<2} | time: {t1 - t0:.3f} sec\")\n",
        "\n",
        "benchmark_workers()"
      ]
    },
    {
      "cell_type": "code",
      "execution_count": 37,
      "id": "3dd6cf5f6453534d",
      "metadata": {
        "ExecuteTime": {
          "end_time": "2025-07-15T17:05:20.994234Z",
          "start_time": "2025-07-15T17:05:20.980574Z"
        },
        "id": "3dd6cf5f6453534d"
      },
      "outputs": [],
      "source": [
        "class Dataloaders:\n",
        "    def __init__(self, dataset_cls):\n",
        "        self.dataset_cls = dataset_cls\n",
        "\n",
        "    def get(self, pt_path, batch_size=None, test_size=0.09, num_workers=0):\n",
        "        dataset = self.dataset_cls(pt_path)\n",
        "\n",
        "        indices = np.arange(len(dataset))\n",
        "        train_idx, test_idx = train_test_split(indices, test_size=test_size, shuffle=True)\n",
        "\n",
        "        train_set = Subset(dataset, train_idx)\n",
        "        test_set = Subset(dataset, test_idx)\n",
        "\n",
        "        effective_batch_size = len(train_set) if batch_size is None else batch_size\n",
        "\n",
        "        train_loader = DataLoader(train_set, batch_size=effective_batch_size, shuffle=True,\n",
        "                                  num_workers=num_workers, pin_memory=True,\n",
        "                                  persistent_workers=(num_workers > 0))\n",
        "\n",
        "        test_loader = DataLoader(test_set, batch_size=len(test_set) if batch_size is None else batch_size,\n",
        "                                 shuffle=False, num_workers=num_workers, pin_memory=True,\n",
        "                                 persistent_workers=(num_workers > 0))\n",
        "\n",
        "        return train_loader, test_loader\n"
      ]
    },
    {
      "cell_type": "code",
      "execution_count": 38,
      "id": "11c2a8a8b2b959e8",
      "metadata": {
        "ExecuteTime": {
          "end_time": "2025-07-15T17:05:23.974273Z",
          "start_time": "2025-07-15T17:05:21.059079Z"
        },
        "colab": {
          "base_uri": "https://localhost:8080/",
          "height": 134
        },
        "id": "11c2a8a8b2b959e8",
        "outputId": "7748eb77-b394-410f-a812-f173c9f02e24"
      },
      "outputs": [
        {
          "output_type": "stream",
          "name": "stderr",
          "text": [
            "/tmp/ipython-input-33-29157527.py:12: DeprecationWarning: 'mode' parameter is deprecated and will be removed in Pillow 13 (2026-10-15)\n",
            "  display(Image.fromarray(image, mode='L'))\n"
          ]
        },
        {
          "output_type": "display_data",
          "data": {
            "text/plain": [
              "<PIL.Image.Image image mode=L size=28x28>"
            ],
            "image/png": "[encoded data removed]",
            "image/jpeg": "[encoded data removed]"
          },
          "metadata": {}
        },
        {
          "output_type": "stream",
          "name": "stdout",
          "text": [
            "Label: 6\n",
            "torch.Size([63700, 784]) torch.Size([63700])\n"
          ]
        }
      ],
      "source": [
        "loaders = Dataloaders(Dataset)\n",
        "\n",
        "train_loader, test_loader = loaders.get(\"Dataset/mnist.pt\", batch_size=None)\n",
        "\n",
        "for x, y in train_loader:\n",
        "    x = x.to(device, non_blocking=True)\n",
        "    y = y.to(device, non_blocking=True)\n",
        "\n",
        "    Display.image_Display(x[1])\n",
        "    print(\"Label:\", y[1].item())\n",
        "\n",
        "    print(x.shape, y.shape)\n",
        "    break\n"
      ]
    },
    {
      "cell_type": "code",
      "execution_count": 39,
      "id": "96d7d38e7448051c",
      "metadata": {
        "ExecuteTime": {
          "end_time": "2025-07-15T17:05:24.051628Z",
          "start_time": "2025-07-15T17:05:24.038075Z"
        },
        "id": "96d7d38e7448051c"
      },
      "outputs": [],
      "source": [
        "class Scaling(nn.Module):\n",
        "    def __init__(self, input_tensor: torch.Tensor, bounds=(0.0, 255.0)):\n",
        "        super().__init__()\n",
        "\n",
        "        self.device = input_tensor.device\n",
        "        self.input_dtype = input_tensor.dtype\n",
        "\n",
        "        min_val = input_tensor.min()\n",
        "        max_val = input_tensor.max()\n",
        "\n",
        "        lower, upper = map(float, bounds)\n",
        "        delta_mm = max_val - min_val\n",
        "        delta_ul = upper - lower\n",
        "\n",
        "        a = delta_mm + delta_ul\n",
        "        b = lower * delta_mm + min_val * delta_ul\n",
        "        c = 2 * delta_mm * delta_ul\n",
        "\n",
        "        self.register_buffer(\"a\", a)\n",
        "        self.register_buffer(\"b\", b)\n",
        "        self.register_buffer(\"c\", c)\n",
        "\n",
        "    def forward(self, input_tensor: torch.Tensor):\n",
        "        if self.c == 0: return input_tensor\n",
        "        return (self.a * input_tensor - self.b) / self.c\n",
        "\n",
        "    @torch.no_grad()\n",
        "    def inverse(self, scaled_tensor: torch.Tensor):\n",
        "        if self.c == 0: return scaled_tensor\n",
        "        return (self.c * scaled_tensor + self.b) / self.a\n"
      ]
    },
    {
      "cell_type": "code",
      "execution_count": 40,
      "id": "e73ffe0aba248cc3",
      "metadata": {
        "ExecuteTime": {
          "end_time": "2025-07-15T17:05:24.130610Z",
          "start_time": "2025-07-15T17:05:24.117086Z"
        },
        "id": "e73ffe0aba248cc3"
      },
      "outputs": [],
      "source": [
        "class Classifier(nn.Module):\n",
        "    def __init__(self, categories: int):\n",
        "        super().__init__()\n",
        "        self.categories = categories\n",
        "\n",
        "    def forward(self, labels: torch.Tensor) -> torch.Tensor:\n",
        "        return F.one_hot(labels.view(-1), num_classes=self.categories).float()\n",
        "\n",
        "    @torch.no_grad()\n",
        "    def inverse(self, one_hot_tensor: torch.Tensor) -> torch.Tensor:\n",
        "        return one_hot_tensor.argmax(dim=1, keepdim=True)\n"
      ]
    },
    {
      "cell_type": "code",
      "execution_count": 41,
      "id": "8c6739e09e48f39f",
      "metadata": {
        "ExecuteTime": {
          "end_time": "2025-07-15T17:05:25.771591Z",
          "start_time": "2025-07-15T17:05:24.195269Z"
        },
        "colab": {
          "base_uri": "https://localhost:8080/",
          "height": 180
        },
        "id": "8c6739e09e48f39f",
        "outputId": "5c71c9e2-edb9-4b34-cc0d-4ad20903b5b3"
      },
      "outputs": [
        {
          "output_type": "stream",
          "name": "stderr",
          "text": [
            "/tmp/ipython-input-33-29157527.py:12: DeprecationWarning: 'mode' parameter is deprecated and will be removed in Pillow 13 (2026-10-15)\n",
            "  display(Image.fromarray(image, mode='L'))\n"
          ]
        },
        {
          "output_type": "display_data",
          "data": {
            "text/plain": [
              "<PIL.Image.Image image mode=L size=28x28>"
            ],
            "image/png": "[encoded data removed]",
            "image/jpeg": "[encoded data removed]"
          },
          "metadata": {}
        },
        {
          "output_type": "stream",
          "name": "stdout",
          "text": [
            "Label: 2\n"
          ]
        },
        {
          "output_type": "display_data",
          "data": {
            "text/plain": [
              "<PIL.Image.Image image mode=L size=28x28>"
            ],
            "image/png": "[encoded data removed]",
            "image/jpeg": "[encoded data removed]"
          },
          "metadata": {}
        },
        {
          "output_type": "stream",
          "name": "stdout",
          "text": [
            "Declassified label: 2\n",
            "torch.Size([63700, 784]) torch.Size([63700, 10])\n"
          ]
        }
      ],
      "source": [
        "for x, y in train_loader:\n",
        "    x = x.to(device, non_blocking=True)\n",
        "    y = y.to(device, non_blocking=True)\n",
        "\n",
        "    Display.image_Display(x[1])\n",
        "    print(\"Label:\", y[1].item())\n",
        "\n",
        "    bounds = (0.0, 255.0)\n",
        "    Scaling1 = Scaling(x, bounds)\n",
        "    Classifier1 = Classifier(10).to(device, non_blocking=True)\n",
        "\n",
        "    x = Scaling1(x)\n",
        "    y = Classifier1(y)\n",
        "    x_inverse = Scaling1.inverse(x)\n",
        "    y_declassified = Classifier1.inverse(y)\n",
        "    Display.image_Display(x_inverse[1])\n",
        "    print(\"Declassified label:\", y_declassified[1].item())\n",
        "\n",
        "    print(x.shape, y.shape)\n",
        "    break"
      ]
    },
    {
      "cell_type": "code",
      "execution_count": 42,
      "id": "39468dbc014eee32",
      "metadata": {
        "ExecuteTime": {
          "end_time": "2025-07-15T17:05:25.833796Z",
          "start_time": "2025-07-15T17:05:25.821446Z"
        },
        "id": "39468dbc014eee32"
      },
      "outputs": [],
      "source": [
        "# class NN(nn.Module):\n",
        "#     def __init__(self):\n",
        "#         super().__init__()\n",
        "#         self.layer_sizes = [784, 107, 26, 10]\n",
        "#         self.net = nn.Sequential(\n",
        "#             nn.Linear(self.layer_sizes[0], self.layer_sizes[1], bias=True),\n",
        "#             nn.Sigmoid(),                       # fused activation\n",
        "#             nn.Linear(self.layer_sizes[1], self.layer_sizes[2], bias=True),\n",
        "#             nn.ReLU(inplace=True),              # in‑place\n",
        "#             nn.Linear(self.layer_sizes[2], self.layer_sizes[3], bias=True),\n",
        "#             nn.Softmax(dim=1)\n",
        "#         )\n",
        "\n",
        "#         nn.init.xavier_uniform_(self.net[0].weight)\n",
        "#         nn.init.uniform_(self.net[0].bias, -1.0/math.sqrt(self.layer_sizes[0]), 1.0/math.sqrt(self.layer_sizes[0]))\n",
        "#         nn.init.kaiming_normal_(self.net[2].weight, nonlinearity='relu')\n",
        "#         nn.init.uniform_(self.net[2].bias, -1.0/math.sqrt(self.layer_sizes[1]), 1.0/math.sqrt(self.layer_sizes[1]))\n",
        "#         nn.init.xavier_normal_(self.net[4].weight)\n",
        "#         nn.init.uniform_(self.net[4].bias, -1.0/math.sqrt(self.layer_sizes[2]), 1.0/math.sqrt(self.layer_sizes[2]))\n",
        "\n",
        "#         self.loss_fn = nn.CrossEntropyLoss()\n",
        "\n",
        "#     def forward(self, x):\n",
        "#         x = x.contiguous()\n",
        "#         return self.net(x)\n",
        "\n",
        "class VisualNN(nn.Module):\n",
        "    def __init__(self):\n",
        "        super().__init__()\n",
        "# we removed nn.sequential because we want the values of the layers\n",
        "\n",
        "        self.layer_sizes = [784, 121, 25, 10]\n",
        "        self.fc1 = nn.Linear(self.layer_sizes[0], self.layer_sizes[1], bias=True)\n",
        "        self.fc2 = nn.Linear(self.layer_sizes[1], self.layer_sizes[2], bias=True)\n",
        "        self.fc3 = nn.Linear(self.layer_sizes[2], self.layer_sizes[3], bias=True)\n",
        "\n",
        "        self.loss_fn = nn.CrossEntropyLoss()\n",
        "        self.activations = {}\n",
        "\n",
        "        # Initialize weights & biases\n",
        "        nn.init.xavier_uniform_(self.fc1.weight)\n",
        "        nn.init.uniform_(self.fc1.bias, -1.0 / math.sqrt(self.layer_sizes[0]), 1.0 / math.sqrt(self.layer_sizes[0]))\n",
        "\n",
        "        nn.init.kaiming_normal_(self.fc2.weight, nonlinearity='relu')\n",
        "        nn.init.uniform_(self.fc2.bias, -1.0 / math.sqrt(self.layer_sizes[1]), 1.0 / math.sqrt(self.layer_sizes[1]))\n",
        "\n",
        "        nn.init.xavier_normal_(self.fc3.weight)\n",
        "        nn.init.uniform_(self.fc3.bias, -1.0 / math.sqrt(self.layer_sizes[2]), 1.0 / math.sqrt(self.layer_sizes[2]))\n",
        "\n",
        "    def forward(self, x):\n",
        "        self.activations['input'] = x.detach().cpu()  # (batch_size, 784)\n",
        "\n",
        "        x = torch.sigmoid(self.fc1(x))\n",
        "        self.activations['layer1'] = x.detach().cpu()  # (batch_size, 121)\n",
        "\n",
        "        x = torch.relu(self.fc2(x))\n",
        "        self.activations['layer2'] = x.detach().cpu()  # (batch_size, 25)\n",
        "\n",
        "        x = self.fc3(x)\n",
        "        self.activations['output'] = x.detach().cpu()  # (batch_size, 10)\n",
        "\n",
        "        return torch.softmax(x, dim=1)\n"
      ]
    },
    {
      "cell_type": "code",
      "execution_count": 47,
      "id": "3117e8a0",
      "metadata": {
        "id": "3117e8a0"
      },
      "outputs": [],
      "source": [
        "# def visualize_activations(activations, epoch, sample_idx=0):\n",
        "#     shapes = {\n",
        "#         'input': (28, 28),\n",
        "#         'layer1': (11, 11),\n",
        "#         'layer2': (5, 5),\n",
        "#         'output': (1, 10)\n",
        "#     }\n",
        "\n",
        "#     fig, axs = plt.subplots(1, 4, figsize=(14, 4))\n",
        "\n",
        "#     for layer_name, ax in zip(shapes.keys(), axs):\n",
        "#         shape = shapes[layer_name]\n",
        "#         act = activations[layer_name][sample_idx].view(*shape)\n",
        "#         ax.imshow(act, cmap='gray')\n",
        "#         ax.set_title(f\"{layer_name} ({shape[0]}×{shape[1]})\")\n",
        "#         ax.axis('off')\n",
        "\n",
        "#     plt.suptitle(f\"Epoch {epoch} - Neuron Activations\")\n",
        "#     plt.tight_layout()\n",
        "#     plt.show()\n",
        "\n",
        "\n",
        "def visualize_activations(activations, epoch, sample_idx=0):\n",
        "    shapes = {\n",
        "        'input': (28, 28),\n",
        "        'layer1': (11, 11),\n",
        "        'layer2': (5, 5),\n",
        "        'output': (1, 10)\n",
        "    }\n",
        "\n",
        "    print(f\"\\nEpoch {epoch} - Neuron Activations for Sample {sample_idx}:\")\n",
        "\n",
        "    for layer_name in shapes:\n",
        "        shape = shapes[layer_name]\n",
        "        act = activations[layer_name][sample_idx].view(*shape)\n",
        "        print(f\"Layer: {layer_name} | Shape: {shape}\")\n",
        "        Display.image_Display(act)\n"
      ]
    },
    {
      "cell_type": "code",
      "execution_count": 48,
      "id": "7e5d49dc6cce7bb7",
      "metadata": {
        "ExecuteTime": {
          "end_time": "2025-07-15T17:05:27.046504Z",
          "start_time": "2025-07-15T17:05:25.882637Z"
        },
        "colab": {
          "base_uri": "https://localhost:8080/",
          "height": 215
        },
        "id": "7e5d49dc6cce7bb7",
        "outputId": "37cdf98d-358d-4b31-e0be-0af162e156ca"
      },
      "outputs": [
        {
          "output_type": "stream",
          "name": "stderr",
          "text": [
            "/tmp/ipython-input-33-29157527.py:12: DeprecationWarning: 'mode' parameter is deprecated and will be removed in Pillow 13 (2026-10-15)\n",
            "  display(Image.fromarray(image, mode='L'))\n"
          ]
        },
        {
          "output_type": "display_data",
          "data": {
            "text/plain": [
              "<PIL.Image.Image image mode=L size=28x28>"
            ],
            "image/png": "[encoded data removed]",
            "image/jpeg": "[encoded data removed]"
          },
          "metadata": {}
        },
        {
          "output_type": "stream",
          "name": "stdout",
          "text": [
            "Label: 4\n",
            "CrossEntropy Loss: 2.304145336151123\n"
          ]
        },
        {
          "output_type": "display_data",
          "data": {
            "text/plain": [
              "<PIL.Image.Image image mode=L size=28x28>"
            ],
            "image/png": "[encoded data removed]",
            "image/jpeg": "[encoded data removed]"
          },
          "metadata": {}
        },
        {
          "output_type": "stream",
          "name": "stdout",
          "text": [
            "Actual: 4\n",
            "Predicted: 8\n",
            "torch.Size([63700, 784]) torch.Size([63700, 10]) torch.Size([63700, 10])\n"
          ]
        }
      ],
      "source": [
        "for x, y in train_loader:\n",
        "    x = x.to(device, non_blocking=True)\n",
        "    y = y.to(device, non_blocking=True)\n",
        "\n",
        "    Display.image_Display(x[1])\n",
        "    print(\"Label:\", y[1].item())\n",
        "\n",
        "    bounds = (0.0, 255.0)\n",
        "    Scaling1 = Scaling(x, bounds)\n",
        "    Classifier1 = Classifier(10).to(device, non_blocking=True)\n",
        "    net = VisualNN().to(device, non_blocking=True)\n",
        "\n",
        "    x_scaled = Scaling1(x)\n",
        "    y_encoded = Classifier1(y)\n",
        "\n",
        "    yHAT = net(x_scaled)\n",
        "    loss = net.loss_fn(yHAT, y)\n",
        "    print(\"CrossEntropy Loss:\", loss.item())\n",
        "\n",
        "    x_inverse = Scaling1.inverse(x_scaled)\n",
        "    y_declassified = Classifier1.inverse(y_encoded)\n",
        "    yHAT_declassified = Classifier1.inverse(yHAT)\n",
        "\n",
        "    Display.image_Display(x_inverse[1])\n",
        "    print(\"Actual:\", y_declassified[1].item())\n",
        "    print(\"Predicted:\", yHAT_declassified[1].item())\n",
        "\n",
        "    print(x_scaled.shape, y_encoded.shape, yHAT.shape)\n",
        "    break\n"
      ]
    },
    {
      "cell_type": "code",
      "execution_count": 49,
      "id": "40fdf6e3b4ca6f8c",
      "metadata": {
        "ExecuteTime": {
          "end_time": "2025-07-15T17:05:27.108871Z",
          "start_time": "2025-07-15T17:05:27.080685Z"
        },
        "id": "40fdf6e3b4ca6f8c"
      },
      "outputs": [],
      "source": [
        "class UltraFastTrainer:\n",
        "    def __init__(\n",
        "        self,\n",
        "        model: nn.Module,\n",
        "        loss_fn: nn.Module,\n",
        "        optimizer_cls=torch.optim.Adam,\n",
        "        lr=1e-3,\n",
        "        max_epochs=50,\n",
        "        clip_grad_norm=1.0,\n",
        "        use_amp=True,\n",
        "        use_tqdm=False,\n",
        "        save_path=None\n",
        "    ):\n",
        "        self.model = model.to(device)\n",
        "        self.loss_fn = loss_fn\n",
        "        self.optimizer = optimizer_cls(model.parameters(), lr=lr)\n",
        "        self.max_epochs = max_epochs\n",
        "        self.clip_grad_norm = clip_grad_norm\n",
        "        self.use_amp = use_amp\n",
        "        self.save_path = save_path\n",
        "        self.use_tqdm = use_tqdm\n",
        "\n",
        "        self.scaler_amp = GradScaler(enabled=use_amp)\n",
        "        self.loss_history = []\n",
        "\n",
        "    def _prefetch_loader(self, loader):\n",
        "        for x, y in loader:\n",
        "            yield x.to(device, non_blocking=True), y.to(device, non_blocking=True)\n",
        "\n",
        "    def train(self, train_loader):\n",
        "        self.model.train()\n",
        "\n",
        "        x_sample, _ = next(iter(train_loader))\n",
        "        scaler = Scaling(x_sample.to(device))\n",
        "\n",
        "        for epoch in range(1, self.max_epochs + 1):\n",
        "            start = time.perf_counter()\n",
        "            total_loss = 0.0\n",
        "\n",
        "            iterable = self._prefetch_loader(train_loader)\n",
        "            if self.use_tqdm:\n",
        "                iterable = tqdm(iterable, desc=f\"Epoch {epoch}\", leave=False)\n",
        "\n",
        "            for x, y in iterable:\n",
        "                x = scaler(x)\n",
        "\n",
        "                self.optimizer.zero_grad(set_to_none=True)\n",
        "\n",
        "                with autocast(device_type=device.type, enabled=self.use_amp):\n",
        "                    y_pred = self.model(x)\n",
        "                    loss = self.loss_fn(y_pred, y)\n",
        "\n",
        "                if epoch % 15 == 0:  # Show on every 15 epoch\n",
        "                    visualize_activations(self.model.activations, epoch)\n",
        "\n",
        "\n",
        "                self.scaler_amp.scale(loss).backward()\n",
        "\n",
        "                if self.clip_grad_norm:\n",
        "                    self.scaler_amp.unscale_(self.optimizer)\n",
        "                    nn.utils.clip_grad_norm_(self.model.parameters(), self.clip_grad_norm)\n",
        "\n",
        "                self.scaler_amp.step(self.optimizer)\n",
        "                self.scaler_amp.update()\n",
        "\n",
        "                total_loss += loss.item()\n",
        "\n",
        "            avg_loss = total_loss / len(train_loader)\n",
        "            self.loss_history.append(avg_loss)\n",
        "\n",
        "            elapsed = time.perf_counter() - start\n",
        "            print(f\"Epoch {epoch:03d} | Loss: {avg_loss:.4f} | Time: {elapsed:.2f}s\")\n",
        "\n",
        "        if self.save_path:\n",
        "            torch.save(self.model.state_dict(), self.save_path)\n",
        "\n",
        "    def evaluate(self, test_loader):\n",
        "        self.model.eval()\n",
        "        correct, total = 0, 0\n",
        "\n",
        "        scaler = Scaling(next(iter(test_loader))[0].to(device))\n",
        "\n",
        "        with torch.no_grad():\n",
        "            for x, y in self._prefetch_loader(test_loader):\n",
        "                x = scaler(x)\n",
        "                pred = self.model(x).argmax(dim=1)\n",
        "                correct += (pred == y.view(-1)).sum().item()\n",
        "                total += y.size(0)\n",
        "\n",
        "        acc = correct / total\n",
        "        print(f\"Test Accuracy: {acc*100:.2f}%\")\n",
        "        return acc\n",
        "\n",
        "    def plot_loss(self):\n",
        "        plt.plot(self.loss_history)\n",
        "        plt.title(\"Loss Curve\")\n",
        "        plt.xlabel(\"Epoch\")\n",
        "        plt.ylabel(\"Loss\")\n",
        "        plt.grid(True)\n",
        "        plt.tight_layout()\n",
        "        plt.show()\n"
      ]
    },
    {
      "cell_type": "code",
      "execution_count": 50,
      "id": "42e64e84209dd5b4",
      "metadata": {
        "ExecuteTime": {
          "end_time": "2025-07-15T17:08:07.032409Z",
          "start_time": "2025-07-15T17:05:27.140546Z"
        },
        "colab": {
          "base_uri": "https://localhost:8080/",
          "height": 1000
        },
        "id": "42e64e84209dd5b4",
        "outputId": "625305e9-5bd5-47fd-a619-e912643f7ab1"
      },
      "outputs": [
        {
          "output_type": "stream",
          "name": "stdout",
          "text": [
            "Epoch 001 | Loss: 2.3048 | Time: 3.91s\n",
            "Epoch 002 | Loss: 2.2979 | Time: 4.27s\n",
            "Epoch 003 | Loss: 2.2908 | Time: 4.89s\n",
            "Epoch 004 | Loss: 2.2835 | Time: 3.98s\n",
            "Epoch 005 | Loss: 2.2758 | Time: 4.28s\n",
            "Epoch 006 | Loss: 2.2680 | Time: 4.44s\n",
            "Epoch 007 | Loss: 2.2597 | Time: 4.17s\n",
            "Epoch 008 | Loss: 2.2510 | Time: 3.97s\n",
            "Epoch 009 | Loss: 2.2418 | Time: 4.06s\n",
            "Epoch 010 | Loss: 2.2321 | Time: 4.82s\n",
            "Epoch 011 | Loss: 2.2221 | Time: 3.97s\n",
            "Epoch 012 | Loss: 2.2123 | Time: 4.11s\n",
            "Epoch 013 | Loss: 2.2028 | Time: 4.60s\n",
            "Epoch 014 | Loss: 2.1937 | Time: 3.73s\n",
            "\n",
            "Epoch 15 - Neuron Activations for Sample 0:\n",
            "Layer: input | Shape: (28, 28)\n"
          ]
        },
        {
          "output_type": "stream",
          "name": "stderr",
          "text": [
            "/tmp/ipython-input-33-29157527.py:12: DeprecationWarning: 'mode' parameter is deprecated and will be removed in Pillow 13 (2026-10-15)\n",
            "  display(Image.fromarray(image, mode='L'))\n"
          ]
        },
        {
          "output_type": "display_data",
          "data": {
            "text/plain": [
              "<PIL.Image.Image image mode=L size=28x28>"
            ],
            "image/png": "[encoded data removed]",
            "image/jpeg": "[encoded data removed]"
          },
          "metadata": {}
        },
        {
          "output_type": "stream",
          "name": "stdout",
          "text": [
            "Layer: layer1 | Shape: (11, 11)\n"
          ]
        },
        {
          "output_type": "display_data",
          "data": {
            "text/plain": [
              "<PIL.Image.Image image mode=L size=11x11>"
            ],
            "image/png": "[encoded data removed]",
            "image/jpeg": "[encoded data removed]"
          },
          "metadata": {}
        },
        {
          "output_type": "stream",
          "name": "stdout",
          "text": [
            "Layer: layer2 | Shape: (5, 5)\n"
          ]
        },
        {
          "output_type": "display_data",
          "data": {
            "text/plain": [
              "<PIL.Image.Image image mode=L size=5x5>"
            ],
            "image/png": "[encoded data removed]",
            "image/jpeg": "[encoded data removed]"
          },
          "metadata": {}
        },
        {
          "output_type": "stream",
          "name": "stdout",
          "text": [
            "Layer: output | Shape: (1, 10)\n"
          ]
        },
        {
          "output_type": "display_data",
          "data": {
            "text/plain": [
              "<PIL.Image.Image image mode=L size=10x1>"
            ],
            "image/png": "[encoded data removed]",
            "image/jpeg": "[encoded data removed]"
          },
          "metadata": {}
        },
        {
          "output_type": "stream",
          "name": "stdout",
          "text": [
            "Epoch 015 | Loss: 2.1848 | Time: 3.93s\n",
            "Epoch 016 | Loss: 2.1762 | Time: 4.29s\n",
            "Epoch 017 | Loss: 2.1680 | Time: 4.46s\n",
            "Epoch 018 | Loss: 2.1601 | Time: 4.24s\n",
            "Epoch 019 | Loss: 2.1524 | Time: 4.75s\n",
            "Epoch 020 | Loss: 2.1450 | Time: 4.21s\n",
            "Epoch 021 | Loss: 2.1377 | Time: 4.20s\n",
            "Epoch 022 | Loss: 2.1305 | Time: 4.50s\n",
            "Epoch 023 | Loss: 2.1236 | Time: 4.28s\n",
            "Epoch 024 | Loss: 2.1168 | Time: 3.74s\n",
            "Epoch 025 | Loss: 2.1102 | Time: 4.04s\n",
            "Epoch 026 | Loss: 2.1038 | Time: 4.92s\n",
            "Epoch 027 | Loss: 2.0974 | Time: 3.98s\n",
            "Epoch 028 | Loss: 2.0912 | Time: 4.08s\n",
            "Epoch 029 | Loss: 2.0851 | Time: 4.82s\n",
            "\n",
            "Epoch 30 - Neuron Activations for Sample 0:\n",
            "Layer: input | Shape: (28, 28)\n"
          ]
        },
        {
          "output_type": "display_data",
          "data": {
            "text/plain": [
              "<PIL.Image.Image image mode=L size=28x28>"
            ],
            "image/png": "[encoded data removed]",
            "image/jpeg": "[encoded data removed]"
          },
          "metadata": {}
        },
        {
          "output_type": "stream",
          "name": "stdout",
          "text": [
            "Layer: layer1 | Shape: (11, 11)\n"
          ]
        },
        {
          "output_type": "display_data",
          "data": {
            "text/plain": [
              "<PIL.Image.Image image mode=L size=11x11>"
            ],
            "image/png": "[encoded data removed]",
            "image/jpeg": "[encoded data removed]"
          },
          "metadata": {}
        },
        {
          "output_type": "stream",
          "name": "stdout",
          "text": [
            "Layer: layer2 | Shape: (5, 5)\n"
          ]
        },
        {
          "output_type": "display_data",
          "data": {
            "text/plain": [
              "<PIL.Image.Image image mode=L size=5x5>"
            ],
            "image/png": "[encoded data removed]",
            "image/jpeg": "[encoded data removed]"
          },
          "metadata": {}
        },
        {
          "output_type": "stream",
          "name": "stdout",
          "text": [
            "Layer: output | Shape: (1, 10)\n"
          ]
        },
        {
          "output_type": "display_data",
          "data": {
            "text/plain": [
              "<PIL.Image.Image image mode=L size=10x1>"
            ],
            "image/png": "[encoded data removed]",
            "image/jpeg": "[encoded data removed]"
          },
          "metadata": {}
        },
        {
          "output_type": "stream",
          "name": "stdout",
          "text": [
            "Epoch 030 | Loss: 2.0791 | Time: 3.91s\n",
            "Epoch 031 | Loss: 2.0731 | Time: 4.11s\n",
            "Epoch 032 | Loss: 2.0669 | Time: 5.74s\n",
            "Epoch 033 | Loss: 2.0607 | Time: 4.60s\n",
            "Epoch 034 | Loss: 2.0542 | Time: 4.14s\n",
            "Epoch 035 | Loss: 2.0476 | Time: 4.49s\n",
            "Epoch 036 | Loss: 2.0408 | Time: 4.82s\n",
            "Epoch 037 | Loss: 2.0339 | Time: 3.89s\n",
            "Epoch 038 | Loss: 2.0267 | Time: 5.16s\n",
            "Epoch 039 | Loss: 2.0195 | Time: 5.03s\n",
            "Epoch 040 | Loss: 2.0121 | Time: 4.52s\n",
            "Epoch 041 | Loss: 2.0047 | Time: 4.02s\n",
            "Epoch 042 | Loss: 1.9973 | Time: 4.78s\n",
            "Epoch 043 | Loss: 1.9899 | Time: 3.91s\n",
            "Epoch 044 | Loss: 1.9824 | Time: 3.93s\n",
            "\n",
            "Epoch 45 - Neuron Activations for Sample 0:\n",
            "Layer: input | Shape: (28, 28)\n"
          ]
        },
        {
          "output_type": "display_data",
          "data": {
            "text/plain": [
              "<PIL.Image.Image image mode=L size=28x28>"
            ],
            "image/png": "[encoded data removed]",
            "image/jpeg": "[encoded data removed]"
          },
          "metadata": {}
        },
        {
          "output_type": "stream",
          "name": "stdout",
          "text": [
            "Layer: layer1 | Shape: (11, 11)\n"
          ]
        },
        {
          "output_type": "display_data",
          "data": {
            "text/plain": [
              "<PIL.Image.Image image mode=L size=11x11>"
            ],
            "image/png": "[encoded data removed]",
            "image/jpeg": "[encoded data removed]"
          },
          "metadata": {}
        },
        {
          "output_type": "stream",
          "name": "stdout",
          "text": [
            "Layer: layer2 | Shape: (5, 5)\n"
          ]
        },
        {
          "output_type": "display_data",
          "data": {
            "text/plain": [
              "<PIL.Image.Image image mode=L size=5x5>"
            ],
            "image/png": "[encoded data removed]",
            "image/jpeg": "[encoded data removed]"
          },
          "metadata": {}
        },
        {
          "output_type": "stream",
          "name": "stdout",
          "text": [
            "Layer: output | Shape: (1, 10)\n"
          ]
        },
        {
          "output_type": "display_data",
          "data": {
            "text/plain": [
              "<PIL.Image.Image image mode=L size=10x1>"
            ],
            "image/png": "[encoded data removed]",
            "image/jpeg": "[encoded data removed]"
          },
          "metadata": {}
        },
        {
          "output_type": "stream",
          "name": "stdout",
          "text": [
            "Epoch 045 | Loss: 1.9748 | Time: 4.45s\n",
            "Epoch 046 | Loss: 1.9671 | Time: 3.84s\n",
            "Epoch 047 | Loss: 1.9592 | Time: 3.94s\n",
            "Epoch 048 | Loss: 1.9513 | Time: 3.89s\n",
            "Epoch 049 | Loss: 1.9435 | Time: 4.32s\n",
            "Epoch 050 | Loss: 1.9360 | Time: 4.10s\n",
            "Epoch 051 | Loss: 1.9290 | Time: 3.90s\n",
            "Epoch 052 | Loss: 1.9222 | Time: 4.43s\n",
            "Epoch 053 | Loss: 1.9154 | Time: 3.75s\n",
            "Epoch 054 | Loss: 1.9086 | Time: 4.36s\n",
            "Epoch 055 | Loss: 1.9017 | Time: 4.23s\n",
            "Epoch 056 | Loss: 1.8945 | Time: 4.44s\n",
            "Epoch 057 | Loss: 1.8873 | Time: 3.99s\n",
            "Epoch 058 | Loss: 1.8800 | Time: 3.84s\n",
            "Epoch 059 | Loss: 1.8725 | Time: 4.38s\n",
            "\n",
            "Epoch 60 - Neuron Activations for Sample 0:\n",
            "Layer: input | Shape: (28, 28)\n"
          ]
        },
        {
          "output_type": "display_data",
          "data": {
            "text/plain": [
              "<PIL.Image.Image image mode=L size=28x28>"
            ],
            "image/png": "[encoded data removed]",
            "image/jpeg": "[encoded data removed]"
          },
          "metadata": {}
        },
        {
          "output_type": "stream",
          "name": "stdout",
          "text": [
            "Layer: layer1 | Shape: (11, 11)\n"
          ]
        },
        {
          "output_type": "display_data",
          "data": {
            "text/plain": [
              "<PIL.Image.Image image mode=L size=11x11>"
            ],
            "image/png": "[encoded data removed]",
            "image/jpeg": "[encoded data removed]"
          },
          "metadata": {}
        },
        {
          "output_type": "stream",
          "name": "stdout",
          "text": [
            "Layer: layer2 | Shape: (5, 5)\n"
          ]
        },
        {
          "output_type": "display_data",
          "data": {
            "text/plain": [
              "<PIL.Image.Image image mode=L size=5x5>"
            ],
            "image/png": "[encoded data removed]",
            "image/jpeg": "[encoded data removed]"
          },
          "metadata": {}
        },
        {
          "output_type": "stream",
          "name": "stdout",
          "text": [
            "Layer: output | Shape: (1, 10)\n"
          ]
        },
        {
          "output_type": "display_data",
          "data": {
            "text/plain": [
              "<PIL.Image.Image image mode=L size=10x1>"
            ],
            "image/png": "[encoded data removed]",
            "image/jpeg": "[encoded data removed]"
          },
          "metadata": {}
        },
        {
          "output_type": "stream",
          "name": "stdout",
          "text": [
            "Epoch 060 | Loss: 1.8652 | Time: 3.98s\n",
            "Epoch 061 | Loss: 1.8581 | Time: 4.29s\n",
            "Epoch 062 | Loss: 1.8514 | Time: 4.27s\n",
            "Epoch 063 | Loss: 1.8453 | Time: 3.69s\n",
            "Epoch 064 | Loss: 1.8395 | Time: 4.78s\n",
            "Epoch 065 | Loss: 1.8340 | Time: 5.17s\n",
            "Epoch 066 | Loss: 1.8284 | Time: 3.98s\n",
            "Epoch 067 | Loss: 1.8228 | Time: 3.78s\n",
            "Epoch 068 | Loss: 1.8172 | Time: 4.54s\n",
            "Epoch 069 | Loss: 1.8121 | Time: 4.11s\n",
            "Epoch 070 | Loss: 1.8074 | Time: 4.11s\n",
            "Epoch 071 | Loss: 1.8032 | Time: 4.18s\n",
            "Epoch 072 | Loss: 1.7993 | Time: 4.28s\n",
            "Epoch 073 | Loss: 1.7956 | Time: 4.05s\n",
            "Epoch 074 | Loss: 1.7919 | Time: 4.20s\n",
            "\n",
            "Epoch 75 - Neuron Activations for Sample 0:\n",
            "Layer: input | Shape: (28, 28)\n"
          ]
        },
        {
          "output_type": "display_data",
          "data": {
            "text/plain": [
              "<PIL.Image.Image image mode=L size=28x28>"
            ],
            "image/png": "[encoded data removed]",
            "image/jpeg": "[encoded data removed]"
          },
          "metadata": {}
        },
        {
          "output_type": "stream",
          "name": "stdout",
          "text": [
            "Layer: layer1 | Shape: (11, 11)\n"
          ]
        },
        {
          "output_type": "display_data",
          "data": {
            "text/plain": [
              "<PIL.Image.Image image mode=L size=11x11>"
            ],
            "image/png": "[encoded data removed]",
            "image/jpeg": "[encoded data removed]"
          },
          "metadata": {}
        },
        {
          "output_type": "stream",
          "name": "stdout",
          "text": [
            "Layer: layer2 | Shape: (5, 5)\n"
          ]
        },
        {
          "output_type": "display_data",
          "data": {
            "text/plain": [
              "<PIL.Image.Image image mode=L size=5x5>"
            ],
            "image/png": "[encoded data removed]",
            "image/jpeg": "[encoded data removed]"
          },
          "metadata": {}
        },
        {
          "output_type": "stream",
          "name": "stdout",
          "text": [
            "Layer: output | Shape: (1, 10)\n"
          ]
        },
        {
          "output_type": "display_data",
          "data": {
            "text/plain": [
              "<PIL.Image.Image image mode=L size=10x1>"
            ],
            "image/png": "[encoded data removed]",
            "image/jpeg": "[encoded data removed]"
          },
          "metadata": {}
        },
        {
          "output_type": "stream",
          "name": "stdout",
          "text": [
            "Epoch 075 | Loss: 1.7884 | Time: 5.56s\n",
            "Epoch 076 | Loss: 1.7850 | Time: 3.69s\n",
            "Epoch 077 | Loss: 1.7818 | Time: 4.03s\n",
            "Epoch 078 | Loss: 1.7787 | Time: 8.53s\n",
            "Epoch 079 | Loss: 1.7757 | Time: 6.86s\n",
            "Epoch 080 | Loss: 1.7728 | Time: 4.51s\n",
            "Epoch 081 | Loss: 1.7699 | Time: 4.74s\n",
            "Epoch 082 | Loss: 1.7670 | Time: 3.93s\n",
            "Epoch 083 | Loss: 1.7640 | Time: 4.92s\n",
            "Epoch 084 | Loss: 1.7609 | Time: 5.42s\n",
            "Epoch 085 | Loss: 1.7577 | Time: 4.33s\n",
            "Epoch 086 | Loss: 1.7543 | Time: 3.57s\n",
            "Epoch 087 | Loss: 1.7506 | Time: 4.78s\n",
            "Epoch 088 | Loss: 1.7469 | Time: 4.82s\n",
            "Epoch 089 | Loss: 1.7430 | Time: 4.02s\n",
            "\n",
            "Epoch 90 - Neuron Activations for Sample 0:\n",
            "Layer: input | Shape: (28, 28)\n"
          ]
        },
        {
          "output_type": "display_data",
          "data": {
            "text/plain": [
              "<PIL.Image.Image image mode=L size=28x28>"
            ],
            "image/png": "[encoded data removed]",
            "image/jpeg": "[encoded data removed]"
          },
          "metadata": {}
        },
        {
          "output_type": "stream",
          "name": "stdout",
          "text": [
            "Layer: layer1 | Shape: (11, 11)\n"
          ]
        },
        {
          "output_type": "display_data",
          "data": {
            "text/plain": [
              "<PIL.Image.Image image mode=L size=11x11>"
            ],
            "image/png": "[encoded data removed]",
            "image/jpeg": "[encoded data removed]"
          },
          "metadata": {}
        },
        {
          "output_type": "stream",
          "name": "stdout",
          "text": [
            "Layer: layer2 | Shape: (5, 5)\n"
          ]
        },
        {
          "output_type": "display_data",
          "data": {
            "text/plain": [
              "<PIL.Image.Image image mode=L size=5x5>"
            ],
            "image/png": "[encoded data removed]",
            "image/jpeg": "[encoded data removed]"
          },
          "metadata": {}
        },
        {
          "output_type": "stream",
          "name": "stdout",
          "text": [
            "Layer: output | Shape: (1, 10)\n"
          ]
        },
        {
          "output_type": "display_data",
          "data": {
            "text/plain": [
              "<PIL.Image.Image image mode=L size=10x1>"
            ],
            "image/png": "[encoded data removed]",
            "image/jpeg": "[encoded data removed]"
          },
          "metadata": {}
        },
        {
          "output_type": "stream",
          "name": "stdout",
          "text": [
            "Epoch 090 | Loss: 1.7392 | Time: 4.17s\n",
            "Epoch 091 | Loss: 1.7357 | Time: 4.10s\n",
            "Epoch 092 | Loss: 1.7325 | Time: 3.88s\n",
            "Epoch 093 | Loss: 1.7295 | Time: 3.46s\n",
            "Epoch 094 | Loss: 1.7265 | Time: 4.40s\n",
            "Epoch 095 | Loss: 1.7232 | Time: 3.84s\n",
            "Epoch 096 | Loss: 1.7199 | Time: 3.77s\n",
            "Epoch 097 | Loss: 1.7165 | Time: 4.06s\n",
            "Epoch 098 | Loss: 1.7134 | Time: 4.58s\n",
            "Epoch 099 | Loss: 1.7104 | Time: 3.98s\n",
            "Epoch 100 | Loss: 1.7075 | Time: 4.27s\n",
            "Test Accuracy: 81.33%\n"
          ]
        },
        {
          "output_type": "display_data",
          "data": {
            "text/plain": [
              "<Figure size 640x480 with 1 Axes>"
            ],
            "image/png": "[encoded data removed]"
          },
          "metadata": {}
        }
      ],
      "source": [
        "model = VisualNN()\n",
        "trainer = UltraFastTrainer(model, nn.CrossEntropyLoss(), max_epochs=100, use_amp=False)\n",
        "\n",
        "trainer.train(train_loader)\n",
        "trainer.evaluate(test_loader)\n",
        "trainer.plot_loss()\n"
      ]
    },
    {
      "cell_type": "code",
      "source": [],
      "metadata": {
        "id": "Qa_AOglG9Q8D"
      },
      "id": "Qa_AOglG9Q8D",
      "execution_count": 46,
      "outputs": []
    }
  ],
  "metadata": {
    "kernelspec": {
      "display_name": "Python 3",
      "language": "python",
      "name": "python3"
    },
    "language_info": {
      "codemirror_mode": {
        "name": "ipython",
        "version": 3
      },
      "file_extension": ".py",
      "mimetype": "text/x-python",
      "name": "python",
      "nbconvert_exporter": "python",
      "pygments_lexer": "ipython3",
      "version": "3.10.9"
    },
    "colab": {
      "provenance": []
    }
  },
  "nbformat": 4,
  "nbformat_minor": 5
}