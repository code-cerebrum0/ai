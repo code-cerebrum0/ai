{
  "cells": [
    {
      "cell_type": "markdown",
      "metadata": {
        "id": "view-in-github",
        "colab_type": "text"
      },
      "source": [
        "<a href=\"https://colab.research.google.com/github/code-cerebrum0/ai/blob/main/Handwritten_modified_0.ipynb\" target=\"_parent\"><img src=\"https://colab.research.google.com/assets/colab-badge.svg\" alt=\"Open In Colab\"/></a>"
      ]
    },
    {
      "metadata": {
        "ExecuteTime": {
          "end_time": "2025-07-15T17:25:49.543040Z",
          "start_time": "2025-07-15T17:25:49.525878Z"
        },
        "id": "4e24df163870907"
      },
      "cell_type": "code",
      "source": [
        "# %pip install numpy pandas pillow scikit-learn kagglehub matplotlib ipython\n",
        "# %pip install torch torchvision torchaudio --index-url https://download.pytorch.org/whl/cu121\n",
        "# !conda install -c conda-forge background-generator -y\n"
      ],
      "id": "4e24df163870907",
      "outputs": [],
      "execution_count": 1
    },
    {
      "metadata": {
        "ExecuteTime": {
          "end_time": "2025-07-15T17:25:49.589639Z",
          "start_time": "2025-07-15T17:25:49.575928Z"
        },
        "id": "a00a57b8e9168f4"
      },
      "cell_type": "code",
      "source": [
        "import os\n",
        "import pandas as pd\n",
        "import numpy as np\n",
        "import math\n",
        "import time\n",
        "import torch\n",
        "import torch.nn as nn\n",
        "import torch.nn.functional as F\n",
        "from torch.amp import autocast, GradScaler\n",
        "from torch.utils.data import Dataset, DataLoader, Subset, TensorDataset\n",
        "from sklearn.model_selection import train_test_split\n",
        "import matplotlib.pyplot as plt\n",
        "from PIL import Image\n",
        "from IPython.display import display"
      ],
      "id": "a00a57b8e9168f4",
      "outputs": [],
      "execution_count": 5
    },
    {
      "metadata": {
        "ExecuteTime": {
          "end_time": "2025-07-15T17:25:49.666711Z",
          "start_time": "2025-07-15T17:25:49.653121Z"
        },
        "colab": {
          "base_uri": "https://localhost:8080/"
        },
        "id": "c624fc57492587b5",
        "outputId": "0ff0d842-8ea6-426b-bea1-5075c3912918"
      },
      "cell_type": "code",
      "source": [
        "if torch.cuda.is_available():\n",
        "    device = torch.device(\"cuda\")\n",
        "    print(\"CUDA version:\", torch.version.cuda)\n",
        "    print(\"Device name:\", device)\n",
        "else:\n",
        "    device = torch.device(\"cpu\")\n",
        "    print(\"CUDA is not available\")\n",
        "    print(\"Device name:\", device)\n"
      ],
      "id": "c624fc57492587b5",
      "outputs": [
        {
          "output_type": "stream",
          "name": "stdout",
          "text": [
            "CUDA version: 12.4\n",
            "Device name: cuda\n"
          ]
        }
      ],
      "execution_count": 6
    },
    {
      "metadata": {
        "ExecuteTime": {
          "end_time": "2025-07-15T17:25:49.729365Z",
          "start_time": "2025-07-15T17:25:49.715782Z"
        },
        "id": "eb5c6c2e1bc9ea75"
      },
      "cell_type": "code",
      "source": [
        "class Display:\n",
        "    @staticmethod\n",
        "    def image_Display(image):\n",
        "        if torch.is_tensor(image):\n",
        "            image = image.detach().cpu().numpy()\n",
        "\n",
        "        if image.ndim == 1:\n",
        "            image = image.reshape(28, 28)\n",
        "\n",
        "        image = image.astype('uint8')  # ensure proper display format\n",
        "\n",
        "        display(Image.fromarray(image, mode='L'))\n"
      ],
      "id": "eb5c6c2e1bc9ea75",
      "outputs": [],
      "execution_count": 7
    },
    {
      "metadata": {
        "ExecuteTime": {
          "end_time": "2025-07-15T17:25:49.790143Z",
          "start_time": "2025-07-15T17:25:49.776419Z"
        },
        "id": "9340c15e2e077a31"
      },
      "cell_type": "code",
      "source": [
        "# def convert_merged_csv_to_pt(train_csv_path, test_csv_path, pt_path):\n",
        "#     dtype_map = {'label': 'int64'} | {str(i): 'uint8' for i in range(1, 785)}\n",
        "#\n",
        "#     df_train = pd.read_csv(train_csv_path, dtype=dtype_map, low_memory=False)\n",
        "#     df_test = pd.read_csv(test_csv_path, dtype=dtype_map, low_memory=False)\n",
        "#\n",
        "#     df = pd.concat([df_train, df_test], ignore_index=True).sample(frac=1, random_state=42)\n",
        "#\n",
        "#     pixel_array = df.drop(columns='label').to_numpy(dtype='float32', copy=True)\n",
        "#     label_array = df['label'].to_numpy(dtype='int64', copy=True)\n",
        "#\n",
        "#     pixels = torch.from_numpy(pixel_array)\n",
        "#     labels = torch.from_numpy(label_array)\n",
        "#\n",
        "#     torch.save((pixels, labels), pt_path)\n",
        "#     print(f\"✅ Saved: {pt_path}\")\n",
        "#\n",
        "# convert_merged_csv_to_pt(\"Dataset/mnist_train.csv\", \"Dataset/mnist_test.csv\", \"Dataset/mnist.pt\")"
      ],
      "id": "9340c15e2e077a31",
      "outputs": [],
      "execution_count": 8
    },
    {
      "metadata": {
        "ExecuteTime": {
          "end_time": "2025-07-15T17:25:49.852094Z",
          "start_time": "2025-07-15T17:25:49.838786Z"
        },
        "id": "60a38375d9a65ce3"
      },
      "cell_type": "code",
      "source": [
        "class MNDataset(Dataset):\n",
        "    def __init__(self, pt_path):\n",
        "        self.pixels, self.labels = torch.load(pt_path, weights_only=True)\n",
        "\n",
        "    def __getitem__(self, index):\n",
        "        return self.pixels[index], self.labels[index]\n",
        "\n",
        "    def __len__(self):\n",
        "        return self.labels.size(0)"
      ],
      "id": "60a38375d9a65ce3",
      "outputs": [],
      "execution_count": 9
    },
    {
      "metadata": {
        "ExecuteTime": {
          "end_time": "2025-07-15T17:25:49.913823Z",
          "start_time": "2025-07-15T17:25:49.901026Z"
        },
        "id": "db6bec0f3c180323",
        "outputId": "b2dd0397-f8a7-490f-cb1b-c9e94a470b61",
        "colab": {
          "base_uri": "https://localhost:8080/"
        }
      },
      "cell_type": "code",
      "source": [
        "def benchmark_workers(pt_path=\"/content/drive/MyDrive/Dataset/mnist.pt\", max_workers=12, batch_size=1024):\n",
        "    dataset = MNDataset(pt_path)\n",
        "    indices = np.arange(len(dataset))\n",
        "    train_idx, _ = train_test_split(indices, test_size=0.2, shuffle=True)\n",
        "    train_set = Subset(dataset, train_idx)\n",
        "\n",
        "\n",
        "    for nw in range(max_workers + 1):\n",
        "        loader = DataLoader(train_set, batch_size=batch_size, shuffle=True,\n",
        "                                             num_workers=nw, pin_memory=True,\n",
        "                                             persistent_workers=(nw > 0))\n",
        "        torch.cuda.synchronize() if torch.cuda.is_available() else None\n",
        "        t0 = time.perf_counter()\n",
        "\n",
        "        for x, y in loader:\n",
        "            pass  # simulate one epoch\n",
        "\n",
        "        torch.cuda.synchronize() if torch.cuda.is_available() else None\n",
        "        t1 = time.perf_counter()\n",
        "        print(f\"num_workers={nw:<2} | time: {t1 - t0:.3f} sec\")\n",
        "\n",
        "benchmark_workers()"
      ],
      "id": "db6bec0f3c180323",
      "outputs": [
        {
          "output_type": "stream",
          "name": "stdout",
          "text": [
            "num_workers=0  | time: 1.824 sec\n",
            "num_workers=1  | time: 1.617 sec\n",
            "num_workers=2  | time: 1.493 sec\n",
            "num_workers=3  | time: 1.412 sec\n",
            "num_workers=4  | time: 1.479 sec\n",
            "num_workers=5  | time: 1.568 sec\n",
            "num_workers=6  | time: 1.773 sec\n",
            "num_workers=7  | time: 2.374 sec\n",
            "num_workers=8  | time: 1.809 sec\n",
            "num_workers=9  | time: 1.688 sec\n",
            "num_workers=10 | time: 1.778 sec\n",
            "num_workers=11 | time: 1.817 sec\n",
            "num_workers=12 | time: 1.865 sec\n"
          ]
        }
      ],
      "execution_count": 41
    },
    {
      "metadata": {
        "ExecuteTime": {
          "end_time": "2025-07-15T17:25:49.990921Z",
          "start_time": "2025-07-15T17:25:49.977268Z"
        },
        "id": "3dd6cf5f6453534d"
      },
      "cell_type": "code",
      "source": [
        "class Dataloaders:\n",
        "    def __init__(self, dataset_cls):\n",
        "        self.dataset_cls = dataset_cls\n",
        "\n",
        "    def get(self, pt_path, batch_size=1024, test_size=0.1, num_workers=2):\n",
        "        dataset = self.dataset_cls(pt_path)\n",
        "\n",
        "        indices = np.arange(len(dataset))\n",
        "        train_idx, test_idx = train_test_split(indices, test_size=test_size, shuffle=True)\n",
        "\n",
        "        train_set = Subset(dataset, train_idx)\n",
        "        test_set = Subset(dataset, test_idx)\n",
        "\n",
        "        effective_batch_size = len(train_set) if batch_size is None else batch_size\n",
        "\n",
        "        train_loader = DataLoader(train_set, batch_size=effective_batch_size, shuffle=True,\n",
        "                                  num_workers=num_workers, pin_memory=True,\n",
        "                                  persistent_workers=(num_workers > 0))\n",
        "\n",
        "        test_loader = DataLoader(test_set, batch_size=len(test_set) if batch_size is None else batch_size,\n",
        "                                 shuffle=False, num_workers=num_workers, pin_memory=True,\n",
        "                                 persistent_workers=(num_workers > 0))\n",
        "\n",
        "        return train_loader, test_loader\n"
      ],
      "id": "3dd6cf5f6453534d",
      "outputs": [],
      "execution_count": 34
    },
    {
      "metadata": {
        "ExecuteTime": {
          "end_time": "2025-07-15T17:25:51.647323Z",
          "start_time": "2025-07-15T17:25:50.056080Z"
        },
        "colab": {
          "base_uri": "https://localhost:8080/",
          "height": 134
        },
        "id": "11c2a8a8b2b959e8",
        "outputId": "cbfd3760-0288-47e4-80f7-a6708ad4a097"
      },
      "cell_type": "code",
      "source": [
        "loaders = Dataloaders(MNDataset)\n",
        "\n",
        "train_loader, test_loader = loaders.get(\"/content/drive/MyDrive/Dataset/mnist.pt\", batch_size=1024)\n",
        "\n",
        "for x, y in train_loader:\n",
        "    x = x.to(device, non_blocking=True)\n",
        "    y = y.to(device, non_blocking=True)\n",
        "\n",
        "    Display.image_Display(x[1])\n",
        "    print(\"Label:\", y[1].item())\n",
        "\n",
        "    print(x.shape, y.shape)\n",
        "    break\n"
      ],
      "id": "11c2a8a8b2b959e8",
      "outputs": [
        {
          "output_type": "stream",
          "name": "stderr",
          "text": [
            "/tmp/ipython-input-29157527.py:12: DeprecationWarning: 'mode' parameter is deprecated and will be removed in Pillow 13 (2026-10-15)\n",
            "  display(Image.fromarray(image, mode='L'))\n"
          ]
        },
        {
          "output_type": "display_data",
          "data": {
            "text/plain": [
              "<PIL.Image.Image image mode=L size=28x28>"
            ],
            "image/png": "[encoded data removed]",
            "image/jpeg": "[encoded data removed]"
          },
          "metadata": {}
        },
        {
          "output_type": "stream",
          "name": "stdout",
          "text": [
            "Label: 4\n",
            "torch.Size([1024, 784]) torch.Size([1024])\n"
          ]
        }
      ],
      "execution_count": 35
    },
    {
      "metadata": {
        "ExecuteTime": {
          "end_time": "2025-07-15T17:25:51.725894Z",
          "start_time": "2025-07-15T17:25:51.711467Z"
        },
        "id": "96d7d38e7448051c"
      },
      "cell_type": "code",
      "source": [
        "class Scaling(nn.Module):\n",
        "    def __init__(self, input_tensor: torch.Tensor, bounds=(0.0, 255.0)):\n",
        "        super().__init__()\n",
        "\n",
        "        self.device = input_tensor.device\n",
        "        self.input_dtype = input_tensor.dtype\n",
        "\n",
        "        min_val = input_tensor.min()\n",
        "        max_val = input_tensor.max()\n",
        "\n",
        "        lower, upper = map(float, bounds)\n",
        "        delta_mm = max_val - min_val\n",
        "        delta_ul = upper - lower\n",
        "\n",
        "        a = delta_mm + delta_ul\n",
        "        b = lower * delta_mm + min_val * delta_ul\n",
        "        c = 2 * delta_mm * delta_ul\n",
        "\n",
        "        self.register_buffer(\"a\", a)\n",
        "        self.register_buffer(\"b\", b)\n",
        "        self.register_buffer(\"c\", c)\n",
        "\n",
        "    def forward(self, input_tensor: torch.Tensor):\n",
        "        if self.c == 0: return input_tensor\n",
        "        return (self.a * input_tensor - self.b) / self.c\n",
        "\n",
        "    @torch.no_grad()\n",
        "    def inverse(self, scaled_tensor: torch.Tensor):\n",
        "        if self.c == 0: return scaled_tensor\n",
        "        return (self.c * scaled_tensor + self.b) / self.a\n"
      ],
      "id": "96d7d38e7448051c",
      "outputs": [],
      "execution_count": 37
    },
    {
      "metadata": {
        "ExecuteTime": {
          "end_time": "2025-07-15T17:25:51.786718Z",
          "start_time": "2025-07-15T17:25:51.773096Z"
        },
        "id": "e73ffe0aba248cc3"
      },
      "cell_type": "code",
      "source": [
        "class Classifier(nn.Module):\n",
        "    def __init__(self, categories: int):\n",
        "        super().__init__()\n",
        "        self.categories = categories\n",
        "\n",
        "    def forward(self, labels: torch.Tensor) -> torch.Tensor:\n",
        "        return F.one_hot(labels.view(-1), num_classes=self.categories).float()\n",
        "\n",
        "    @torch.no_grad()\n",
        "    def inverse(self, one_hot_tensor: torch.Tensor) -> torch.Tensor:\n",
        "        return one_hot_tensor.argmax(dim=1, keepdim=True)\n"
      ],
      "id": "e73ffe0aba248cc3",
      "outputs": [],
      "execution_count": 42
    },
    {
      "metadata": {
        "ExecuteTime": {
          "end_time": "2025-07-15T17:25:53.260341Z",
          "start_time": "2025-07-15T17:25:51.836592Z"
        },
        "colab": {
          "base_uri": "https://localhost:8080/",
          "height": 180
        },
        "id": "8c6739e09e48f39f",
        "outputId": "21634b66-a126-4a5b-cedf-40798109a776"
      },
      "cell_type": "code",
      "source": [
        "for x, y in train_loader:\n",
        "    x = x.to(device, non_blocking=True)\n",
        "    y = y.to(device, non_blocking=True)\n",
        "\n",
        "    Display.image_Display(x[1])\n",
        "    print(\"Label:\", y[1].item())\n",
        "\n",
        "    bounds = (0.0, 255.0)\n",
        "    Scaling1 = Scaling(x, bounds)\n",
        "    Classifier1 = Classifier(10).to(device, non_blocking=True)\n",
        "\n",
        "    x = Scaling1(x)\n",
        "    y = Classifier1(y)\n",
        "    x_inverse = Scaling1.inverse(x)\n",
        "    y_declassified = Classifier1.inverse(y)\n",
        "    Display.image_Display(x_inverse[1])\n",
        "    print(\"Declassified label:\", y_declassified[1].item())\n",
        "\n",
        "    print(x.shape, y.shape)\n",
        "    break"
      ],
      "id": "8c6739e09e48f39f",
      "outputs": [
        {
          "output_type": "stream",
          "name": "stderr",
          "text": [
            "/tmp/ipython-input-29157527.py:12: DeprecationWarning: 'mode' parameter is deprecated and will be removed in Pillow 13 (2026-10-15)\n",
            "  display(Image.fromarray(image, mode='L'))\n"
          ]
        },
        {
          "output_type": "display_data",
          "data": {
            "text/plain": [
              "<PIL.Image.Image image mode=L size=28x28>"
            ],
            "image/png": "[encoded data removed]",
            "image/jpeg": "[encoded data removed]"
          },
          "metadata": {}
        },
        {
          "output_type": "stream",
          "name": "stdout",
          "text": [
            "Label: 9\n"
          ]
        },
        {
          "output_type": "display_data",
          "data": {
            "text/plain": [
              "<PIL.Image.Image image mode=L size=28x28>"
            ],
            "image/png": "[encoded data removed]",
            "image/jpeg": "[encoded data removed]"
          },
          "metadata": {}
        },
        {
          "output_type": "stream",
          "name": "stdout",
          "text": [
            "Declassified label: 9\n",
            "torch.Size([1024, 784]) torch.Size([1024, 10])\n"
          ]
        }
      ],
      "execution_count": 43
    },
    {
      "metadata": {
        "ExecuteTime": {
          "end_time": "2025-07-15T17:25:53.323161Z",
          "start_time": "2025-07-15T17:25:53.309044Z"
        },
        "id": "39468dbc014eee32"
      },
      "cell_type": "code",
      "source": [
        "class NN(nn.Module):\n",
        "    def __init__(self):\n",
        "        super().__init__()\n",
        "        self.layer_sizes = [784, 107, 26, 10]\n",
        "        self.net = nn.Sequential(\n",
        "            nn.Linear(self.layer_sizes[0], self.layer_sizes[1], bias=True),\n",
        "            nn.Sigmoid(),                       # fused activation\n",
        "            nn.Linear(self.layer_sizes[1], self.layer_sizes[2], bias=True),\n",
        "            nn.ReLU(inplace=True),              # in‑place\n",
        "            nn.Linear(self.layer_sizes[2], self.layer_sizes[3], bias=True),\n",
        "            # nn.Softmax(dim=1)\n",
        "        )\n",
        "\n",
        "        nn.init.xavier_uniform_(self.net[0].weight)\n",
        "        nn.init.uniform_(self.net[0].bias, -1.0/math.sqrt(self.layer_sizes[0]), 1.0/math.sqrt(self.layer_sizes[0]))\n",
        "        nn.init.kaiming_normal_(self.net[2].weight, nonlinearity='relu')\n",
        "        nn.init.uniform_(self.net[2].bias, -1.0/math.sqrt(self.layer_sizes[1]), 1.0/math.sqrt(self.layer_sizes[1]))\n",
        "        nn.init.xavier_normal_(self.net[4].weight)\n",
        "        nn.init.uniform_(self.net[4].bias, -1.0/math.sqrt(self.layer_sizes[2]), 1.0/math.sqrt(self.layer_sizes[2]))\n",
        "\n",
        "        self.loss_fn = nn.CrossEntropyLoss()\n",
        "\n",
        "    def forward(self, x):\n",
        "        x = x.contiguous()\n",
        "        return self.net(x)"
      ],
      "id": "39468dbc014eee32",
      "outputs": [],
      "execution_count": 44
    },
    {
      "cell_type": "code",
      "source": [
        "from google.colab import drive\n",
        "drive.mount('/content/drive')"
      ],
      "metadata": {
        "colab": {
          "base_uri": "https://localhost:8080/"
        },
        "id": "7IwMq7TdUtxw",
        "outputId": "8ef65143-61c1-44a6-f442-a160f1874f64"
      },
      "id": "7IwMq7TdUtxw",
      "execution_count": 45,
      "outputs": [
        {
          "output_type": "stream",
          "name": "stdout",
          "text": [
            "Drive already mounted at /content/drive; to attempt to forcibly remount, call drive.mount(\"/content/drive\", force_remount=True).\n"
          ]
        }
      ]
    },
    {
      "metadata": {
        "ExecuteTime": {
          "end_time": "2025-07-15T17:25:54.609715Z",
          "start_time": "2025-07-15T17:25:53.371304Z"
        },
        "colab": {
          "base_uri": "https://localhost:8080/",
          "height": 214
        },
        "id": "7e5d49dc6cce7bb7",
        "outputId": "974f3650-d003-4fb8-9942-182acf1182e6"
      },
      "cell_type": "code",
      "source": [
        "for x, y in train_loader:\n",
        "    x = x.to(device, non_blocking=True)\n",
        "    y = y.to(device, non_blocking=True)\n",
        "\n",
        "    Display.image_Display(x[1])\n",
        "    print(\"Label:\", y[1].item())\n",
        "\n",
        "    bounds = (0.0, 255.0)\n",
        "    Scaling1 = Scaling(x, bounds)\n",
        "    Classifier1 = Classifier(10).to(device, non_blocking=True)\n",
        "    net = NN().to(device, non_blocking=True)\n",
        "\n",
        "    x_scaled = Scaling1(x)\n",
        "    y_encoded = Classifier1(y)\n",
        "\n",
        "    yHAT = net(x_scaled)\n",
        "    loss = net.loss_fn(yHAT, y)\n",
        "    print(\"CrossEntropy Loss:\", loss.item())\n",
        "\n",
        "    x_inverse = Scaling1.inverse(x_scaled)\n",
        "    y_declassified = Classifier1.inverse(y_encoded)\n",
        "    yHAT_declassified = Classifier1.inverse(yHAT)\n",
        "\n",
        "    Display.image_Display(x_inverse[1])\n",
        "    print(\"Actual:\", y_declassified[1].item())\n",
        "    print(\"Predicted:\", yHAT_declassified[1].item())\n",
        "\n",
        "    print(x_scaled.shape, y_encoded.shape, yHAT.shape)\n",
        "    break\n"
      ],
      "id": "7e5d49dc6cce7bb7",
      "outputs": [
        {
          "output_type": "stream",
          "name": "stderr",
          "text": [
            "/tmp/ipython-input-29157527.py:12: DeprecationWarning: 'mode' parameter is deprecated and will be removed in Pillow 13 (2026-10-15)\n",
            "  display(Image.fromarray(image, mode='L'))\n"
          ]
        },
        {
          "output_type": "display_data",
          "data": {
            "text/plain": [
              "<PIL.Image.Image image mode=L size=28x28>"
            ],
            "image/png": "[encoded data removed]",
            "image/jpeg": "[encoded data removed]"
          },
          "metadata": {}
        },
        {
          "output_type": "stream",
          "name": "stdout",
          "text": [
            "Label: 1\n",
            "CrossEntropy Loss: 2.4657180309295654\n"
          ]
        },
        {
          "output_type": "display_data",
          "data": {
            "text/plain": [
              "<PIL.Image.Image image mode=L size=28x28>"
            ],
            "image/png": "[encoded data removed]",
            "image/jpeg": "[encoded data removed]"
          },
          "metadata": {}
        },
        {
          "output_type": "stream",
          "name": "stdout",
          "text": [
            "Actual: 1\n",
            "Predicted: 0\n",
            "torch.Size([1024, 784]) torch.Size([1024, 10]) torch.Size([1024, 10])\n"
          ]
        }
      ],
      "execution_count": 46
    },
    {
      "metadata": {
        "ExecuteTime": {
          "end_time": "2025-07-15T17:25:54.672220Z",
          "start_time": "2025-07-15T17:25:54.657614Z"
        },
        "id": "40fdf6e3b4ca6f8c"
      },
      "cell_type": "code",
      "source": [
        "class UltraFastTrainer:\n",
        "    def __init__(\n",
        "        self,\n",
        "        model: nn.Module,\n",
        "        loss_fn: nn.Module,\n",
        "        optimizer_cls=torch.optim.Adam,\n",
        "        lr=1e-3,\n",
        "        max_epochs=50,\n",
        "        clip_grad_norm=1.0,\n",
        "        use_amp=True,\n",
        "        use_tqdm=False,\n",
        "        save_path=None\n",
        "    ):\n",
        "        self.model = model.to(device)\n",
        "        self.loss_fn = loss_fn\n",
        "        self.optimizer = optimizer_cls(model.parameters(), lr=lr)\n",
        "        self.max_epochs = max_epochs\n",
        "        self.clip_grad_norm = clip_grad_norm\n",
        "        self.use_amp = use_amp\n",
        "        self.save_path = save_path\n",
        "        self.use_tqdm = use_tqdm\n",
        "\n",
        "        self.scaler_amp = GradScaler(enabled=use_amp)\n",
        "        self.loss_history = []\n",
        "\n",
        "    def _prefetch_loader(self, loader):\n",
        "        for x, y in loader:\n",
        "            yield x.to(device, non_blocking=True), y.to(device, non_blocking=True)\n",
        "\n",
        "    def train(self, train_loader):\n",
        "        self.model.train()\n",
        "\n",
        "        x_sample, _ = next(iter(train_loader))\n",
        "        scaler = Scaling(x_sample.to(device))\n",
        "\n",
        "        for epoch in range(1, self.max_epochs + 1):\n",
        "            start = time.perf_counter()\n",
        "            total_loss = 0.0\n",
        "\n",
        "            iterable = self._prefetch_loader(train_loader)\n",
        "            # if self.use_tqdm:\n",
        "            #     iterable = tqdm(iterable, desc=f\"Epoch {epoch}\", leave=False)\n",
        "\n",
        "            for x, y in iterable:\n",
        "                x = scaler(x)\n",
        "\n",
        "                self.optimizer.zero_grad(set_to_none=True)\n",
        "\n",
        "                with autocast(device_type=device.type, enabled=self.use_amp):\n",
        "                    y_pred = self.model(x)\n",
        "                    loss = self.loss_fn(y_pred, y)\n",
        "\n",
        "                self.scaler_amp.scale(loss).backward()\n",
        "\n",
        "                if self.clip_grad_norm:\n",
        "                    self.scaler_amp.unscale_(self.optimizer)\n",
        "                    nn.utils.clip_grad_norm_(self.model.parameters(), self.clip_grad_norm)\n",
        "\n",
        "                self.scaler_amp.step(self.optimizer)\n",
        "                self.scaler_amp.update()\n",
        "\n",
        "                total_loss += loss.item()\n",
        "\n",
        "            avg_loss = total_loss / len(train_loader)\n",
        "            self.loss_history.append(avg_loss)\n",
        "\n",
        "            elapsed = time.perf_counter() - start\n",
        "            print(f\"Epoch {epoch:03d} | Loss: {avg_loss:.4f} | Time: {elapsed:.2f}s\")\n",
        "\n",
        "        # if self.save_path:\n",
        "        #     torch.save(self.model.state_dict(), self.save_path)\n",
        "\n",
        "    def evaluate(self, test_loader):\n",
        "        self.model.eval()\n",
        "        correct, total = 0, 0\n",
        "\n",
        "        scaler = Scaling(next(iter(test_loader))[0].to(device))\n",
        "\n",
        "        with torch.no_grad():\n",
        "            for x, y in self._prefetch_loader(test_loader):\n",
        "                x = scaler(x)\n",
        "                pred = self.model(x).argmax(dim=1)\n",
        "                correct += (pred == y.view(-1)).sum().item()\n",
        "                total += y.size(0)\n",
        "\n",
        "        acc = correct / total\n",
        "        print(f\"Test Accuracy: {acc*100:.2f}%\")\n",
        "        return acc\n",
        "\n",
        "    def plot_loss(self):\n",
        "        plt.plot(self.loss_history)\n",
        "        plt.title(\"Loss Curve\")\n",
        "        plt.xlabel(\"Epoch\")\n",
        "        plt.ylabel(\"Loss\")\n",
        "        plt.grid(True)\n",
        "        plt.tight_layout()\n",
        "        plt.show()\n"
      ],
      "id": "40fdf6e3b4ca6f8c",
      "outputs": [],
      "execution_count": 47
    },
    {
      "metadata": {
        "ExecuteTime": {
          "end_time": "2025-07-15T17:28:10.646670Z",
          "start_time": "2025-07-15T17:25:54.720525Z"
        },
        "colab": {
          "base_uri": "https://localhost:8080/",
          "height": 1000
        },
        "id": "42e64e84209dd5b4",
        "outputId": "c150e796-c02d-4218-d7ea-db65a1fdcafb"
      },
      "cell_type": "code",
      "source": [
        "model = NN()\n",
        "trainer = UltraFastTrainer(model, nn.CrossEntropyLoss(), max_epochs=100, use_amp=True)\n",
        "\n",
        "trainer.train(train_loader)\n",
        "trainer.evaluate(test_loader)\n",
        "trainer.plot_loss()\n"
      ],
      "id": "42e64e84209dd5b4",
      "outputs": [
        {
          "output_type": "stream",
          "name": "stdout",
          "text": [
            "Epoch 001 | Loss: 1.5643 | Time: 1.71s\n",
            "Epoch 002 | Loss: 0.6439 | Time: 1.65s\n",
            "Epoch 003 | Loss: 0.4042 | Time: 1.89s\n",
            "Epoch 004 | Loss: 0.3252 | Time: 1.61s\n",
            "Epoch 005 | Loss: 0.2847 | Time: 2.10s\n",
            "Epoch 006 | Loss: 0.2561 | Time: 2.53s\n",
            "Epoch 007 | Loss: 0.2351 | Time: 1.79s\n",
            "Epoch 008 | Loss: 0.2182 | Time: 1.63s\n",
            "Epoch 009 | Loss: 0.2032 | Time: 1.79s\n",
            "Epoch 010 | Loss: 0.1895 | Time: 1.80s\n",
            "Epoch 011 | Loss: 0.1780 | Time: 1.65s\n",
            "Epoch 012 | Loss: 0.1686 | Time: 1.63s\n",
            "Epoch 013 | Loss: 0.1586 | Time: 2.64s\n",
            "Epoch 014 | Loss: 0.1489 | Time: 2.01s\n",
            "Epoch 015 | Loss: 0.1410 | Time: 1.79s\n",
            "Epoch 016 | Loss: 0.1327 | Time: 1.67s\n",
            "Epoch 017 | Loss: 0.1260 | Time: 1.67s\n",
            "Epoch 018 | Loss: 0.1187 | Time: 1.78s\n",
            "Epoch 019 | Loss: 0.1123 | Time: 1.77s\n",
            "Epoch 020 | Loss: 0.1069 | Time: 2.29s\n",
            "Epoch 021 | Loss: 0.1011 | Time: 2.22s\n",
            "Epoch 022 | Loss: 0.0964 | Time: 1.80s\n",
            "Epoch 023 | Loss: 0.0903 | Time: 1.87s\n",
            "Epoch 024 | Loss: 0.0863 | Time: 1.64s\n",
            "Epoch 025 | Loss: 0.0817 | Time: 1.63s\n",
            "Epoch 026 | Loss: 0.0777 | Time: 1.90s\n",
            "Epoch 027 | Loss: 0.0735 | Time: 1.96s\n",
            "Epoch 028 | Loss: 0.0699 | Time: 2.56s\n",
            "Epoch 029 | Loss: 0.0671 | Time: 1.63s\n",
            "Epoch 030 | Loss: 0.0635 | Time: 1.75s\n",
            "Epoch 031 | Loss: 0.0605 | Time: 1.77s\n",
            "Epoch 032 | Loss: 0.0574 | Time: 1.66s\n",
            "Epoch 033 | Loss: 0.0550 | Time: 1.79s\n",
            "Epoch 034 | Loss: 0.0521 | Time: 1.95s\n",
            "Epoch 035 | Loss: 0.0503 | Time: 2.41s\n",
            "Epoch 036 | Loss: 0.0474 | Time: 2.03s\n",
            "Epoch 037 | Loss: 0.0452 | Time: 1.73s\n",
            "Epoch 038 | Loss: 0.0434 | Time: 1.81s\n",
            "Epoch 039 | Loss: 0.0411 | Time: 1.83s\n",
            "Epoch 040 | Loss: 0.0392 | Time: 1.63s\n",
            "Epoch 041 | Loss: 0.0374 | Time: 1.75s\n",
            "Epoch 042 | Loss: 0.0356 | Time: 2.51s\n",
            "Epoch 043 | Loss: 0.0338 | Time: 2.06s\n",
            "Epoch 044 | Loss: 0.0325 | Time: 1.74s\n",
            "Epoch 045 | Loss: 0.0308 | Time: 1.64s\n",
            "Epoch 046 | Loss: 0.0298 | Time: 1.77s\n",
            "Epoch 047 | Loss: 0.0279 | Time: 2.36s\n",
            "Epoch 048 | Loss: 0.0266 | Time: 2.42s\n",
            "Epoch 049 | Loss: 0.0255 | Time: 2.64s\n",
            "Epoch 050 | Loss: 0.0245 | Time: 1.82s\n",
            "Epoch 051 | Loss: 0.0229 | Time: 1.65s\n",
            "Epoch 052 | Loss: 0.0215 | Time: 1.79s\n",
            "Epoch 053 | Loss: 0.0205 | Time: 1.60s\n",
            "Epoch 054 | Loss: 0.0198 | Time: 1.99s\n",
            "Epoch 055 | Loss: 0.0186 | Time: 1.66s\n",
            "Epoch 056 | Loss: 0.0177 | Time: 2.19s\n",
            "Epoch 057 | Loss: 0.0172 | Time: 2.43s\n",
            "Epoch 058 | Loss: 0.0160 | Time: 1.61s\n",
            "Epoch 059 | Loss: 0.0152 | Time: 1.64s\n",
            "Epoch 060 | Loss: 0.0144 | Time: 1.81s\n",
            "Epoch 061 | Loss: 0.0136 | Time: 1.63s\n",
            "Epoch 062 | Loss: 0.0129 | Time: 1.88s\n",
            "Epoch 063 | Loss: 0.0121 | Time: 2.04s\n",
            "Epoch 064 | Loss: 0.0117 | Time: 2.33s\n",
            "Epoch 065 | Loss: 0.0111 | Time: 1.94s\n",
            "Epoch 066 | Loss: 0.0105 | Time: 1.61s\n",
            "Epoch 067 | Loss: 0.0099 | Time: 1.76s\n",
            "Epoch 068 | Loss: 0.0096 | Time: 1.70s\n",
            "Epoch 069 | Loss: 0.0088 | Time: 2.20s\n",
            "Epoch 070 | Loss: 0.0083 | Time: 2.34s\n",
            "Epoch 071 | Loss: 0.0079 | Time: 2.35s\n",
            "Epoch 072 | Loss: 0.0077 | Time: 1.66s\n",
            "Epoch 073 | Loss: 0.0072 | Time: 1.99s\n",
            "Epoch 074 | Loss: 0.0067 | Time: 1.69s\n",
            "Epoch 075 | Loss: 0.0065 | Time: 1.80s\n",
            "Epoch 076 | Loss: 0.0060 | Time: 1.64s\n",
            "Epoch 077 | Loss: 0.0057 | Time: 2.40s\n",
            "Epoch 078 | Loss: 0.0054 | Time: 3.04s\n",
            "Epoch 079 | Loss: 0.0051 | Time: 1.72s\n",
            "Epoch 080 | Loss: 0.0048 | Time: 1.88s\n",
            "Epoch 081 | Loss: 0.0046 | Time: 1.82s\n",
            "Epoch 082 | Loss: 0.0045 | Time: 1.69s\n",
            "Epoch 083 | Loss: 0.0042 | Time: 1.84s\n",
            "Epoch 084 | Loss: 0.0040 | Time: 2.34s\n",
            "Epoch 085 | Loss: 0.0038 | Time: 2.33s\n",
            "Epoch 086 | Loss: 0.0036 | Time: 1.83s\n",
            "Epoch 087 | Loss: 0.0034 | Time: 1.73s\n",
            "Epoch 088 | Loss: 0.0032 | Time: 1.97s\n",
            "Epoch 089 | Loss: 0.0031 | Time: 1.62s\n",
            "Epoch 090 | Loss: 0.0029 | Time: 1.69s\n",
            "Epoch 091 | Loss: 0.0027 | Time: 2.20s\n",
            "Epoch 092 | Loss: 0.0026 | Time: 2.59s\n",
            "Epoch 093 | Loss: 0.0025 | Time: 1.63s\n",
            "Epoch 094 | Loss: 0.0024 | Time: 1.82s\n",
            "Epoch 095 | Loss: 0.0022 | Time: 1.81s\n",
            "Epoch 096 | Loss: 0.0022 | Time: 2.12s\n",
            "Epoch 097 | Loss: 0.0020 | Time: 1.68s\n",
            "Epoch 098 | Loss: 0.0020 | Time: 2.16s\n",
            "Epoch 099 | Loss: 0.0018 | Time: 2.68s\n",
            "Epoch 100 | Loss: 0.0018 | Time: 1.71s\n",
            "Test Accuracy: 97.69%\n"
          ]
        },
        {
          "output_type": "display_data",
          "data": {
            "text/plain": [
              "<Figure size 640x480 with 1 Axes>"
            ],
            "image/png": "[encoded data removed]"
          },
          "metadata": {}
        }
      ],
      "execution_count": 48
    },
    {
      "cell_type": "code",
      "source": [],
      "metadata": {
        "id": "RwR37GZsamH8"
      },
      "id": "RwR37GZsamH8",
      "execution_count": null,
      "outputs": []
    }
  ],
  "metadata": {
    "kernelspec": {
      "display_name": "Python [conda env:base] *",
      "language": "python",
      "name": "conda-base-py"
    },
    "language_info": {
      "codemirror_mode": {
        "name": "ipython",
        "version": 2
      },
      "file_extension": ".py",
      "mimetype": "text/x-python",
      "name": "python",
      "nbconvert_exporter": "python",
      "pygments_lexer": "ipython2",
      "version": "2.7.6"
    },
    "colab": {
      "provenance": [],
      "gpuType": "T4",
      "include_colab_link": true
    },
    "accelerator": "GPU"
  },
  "nbformat": 4,
  "nbformat_minor": 5
}