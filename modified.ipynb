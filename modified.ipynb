{
  "cells": [
    {
      "metadata": {
        "ExecuteTime": {
          "end_time": "2025-07-15T17:25:49.543040Z",
          "start_time": "2025-07-15T17:25:49.525878Z"
        },
        "id": "4e24df163870907"
      },
      "cell_type": "code",
      "source": [
        "# %pip install numpy pandas pillow scikit-learn kagglehub matplotlib ipython\n",
        "# %pip install torch torchvision torchaudio --index-url https://download.pytorch.org/whl/cu121\n",
        "# !conda install -c conda-forge background-generator -y\n"
      ],
      "id": "4e24df163870907",
      "outputs": [],
      "execution_count": null
    },
    {
      "metadata": {
        "ExecuteTime": {
          "end_time": "2025-07-15T17:25:49.589639Z",
          "start_time": "2025-07-15T17:25:49.575928Z"
        },
        "id": "a00a57b8e9168f4"
      },
      "cell_type": "code",
      "source": [
        "import os\n",
        "import pandas as pd\n",
        "import numpy as np\n",
        "import math\n",
        "import time\n",
        "import torch\n",
        "import torch.nn as nn\n",
        "import torch.nn.functional as F\n",
        "from torch.amp import autocast, GradScaler\n",
        "from torch.utils.data import Dataset, DataLoader, Subset, TensorDataset\n",
        "from sklearn.model_selection import train_test_split\n",
        "import matplotlib.pyplot as plt\n",
        "from PIL import Image\n",
        "from IPython.display import display"
      ],
      "id": "a00a57b8e9168f4",
      "outputs": [],
      "execution_count": 1
    },
    {
      "metadata": {
        "ExecuteTime": {
          "end_time": "2025-07-15T17:25:49.666711Z",
          "start_time": "2025-07-15T17:25:49.653121Z"
        },
        "id": "c624fc57492587b5",
        "outputId": "5250e038-cd50-4b4f-efd1-0fe7d58cf680",
        "colab": {
          "base_uri": "https://localhost:8080/"
        }
      },
      "cell_type": "code",
      "source": [
        "if torch.cuda.is_available():\n",
        "    device = torch.device(\"cuda\")\n",
        "    print(\"CUDA version:\", torch.version.cuda)\n",
        "    print(\"Device name:\", device)\n",
        "else:\n",
        "    device = torch.device(\"cpu\")\n",
        "    print(\"CUDA is not available\")\n",
        "    print(\"Device name:\", device)\n"
      ],
      "id": "c624fc57492587b5",
      "outputs": [
        {
          "output_type": "stream",
          "name": "stdout",
          "text": [
            "CUDA is not available\n",
            "Device name: cpu\n"
          ]
        }
      ],
      "execution_count": 3
    },
    {
      "metadata": {
        "ExecuteTime": {
          "end_time": "2025-07-15T17:25:49.729365Z",
          "start_time": "2025-07-15T17:25:49.715782Z"
        },
        "id": "eb5c6c2e1bc9ea75"
      },
      "cell_type": "code",
      "source": [
        "class Display:\n",
        "    @staticmethod\n",
        "    def image_Display(image):\n",
        "        if torch.is_tensor(image):\n",
        "            image = image.detach().cpu().numpy()\n",
        "\n",
        "        if image.ndim == 1:\n",
        "            image = image.reshape(28, 28)\n",
        "\n",
        "        image = image.astype('uint8')  # ensure proper display format\n",
        "\n",
        "        display(Image.fromarray(image, mode='L'))\n"
      ],
      "id": "eb5c6c2e1bc9ea75",
      "outputs": [],
      "execution_count": 4
    },
    {
      "metadata": {
        "ExecuteTime": {
          "end_time": "2025-07-15T17:25:49.790143Z",
          "start_time": "2025-07-15T17:25:49.776419Z"
        },
        "id": "9340c15e2e077a31"
      },
      "cell_type": "code",
      "source": [
        "# def convert_merged_csv_to_pt(train_csv_path, test_csv_path, pt_path):\n",
        "#     dtype_map = {'label': 'int64'} | {str(i): 'uint8' for i in range(1, 785)}\n",
        "#\n",
        "#     df_train = pd.read_csv(train_csv_path, dtype=dtype_map, low_memory=False)\n",
        "#     df_test = pd.read_csv(test_csv_path, dtype=dtype_map, low_memory=False)\n",
        "#\n",
        "#     df = pd.concat([df_train, df_test], ignore_index=True).sample(frac=1, random_state=42)\n",
        "#\n",
        "#     pixel_array = df.drop(columns='label').to_numpy(dtype='float32', copy=True)\n",
        "#     label_array = df['label'].to_numpy(dtype='int64', copy=True)\n",
        "#\n",
        "#     pixels = torch.from_numpy(pixel_array)\n",
        "#     labels = torch.from_numpy(label_array)\n",
        "#\n",
        "#     torch.save((pixels, labels), pt_path)\n",
        "#     print(f\"✅ Saved: {pt_path}\")\n",
        "#\n",
        "# convert_merged_csv_to_pt(\"Dataset/mnist_train.csv\", \"Dataset/mnist_test.csv\", \"Dataset/mnist.pt\")"
      ],
      "id": "9340c15e2e077a31",
      "outputs": [],
      "execution_count": 5
    },
    {
      "metadata": {
        "ExecuteTime": {
          "end_time": "2025-07-15T17:25:49.852094Z",
          "start_time": "2025-07-15T17:25:49.838786Z"
        },
        "id": "60a38375d9a65ce3"
      },
      "cell_type": "code",
      "source": [
        "class Dataset(Dataset):\n",
        "    def __init__(self, pt_path):\n",
        "        self.pixels, self.labels = torch.load(pt_path, weights_only=True)\n",
        "\n",
        "    def __getitem__(self, index):\n",
        "        return self.pixels[index], self.labels[index]\n",
        "\n",
        "    def __len__(self):\n",
        "        return self.labels.size(0)"
      ],
      "id": "60a38375d9a65ce3",
      "outputs": [],
      "execution_count": 6
    },
    {
      "metadata": {
        "ExecuteTime": {
          "end_time": "2025-07-15T17:25:49.913823Z",
          "start_time": "2025-07-15T17:25:49.901026Z"
        },
        "id": "db6bec0f3c180323"
      },
      "cell_type": "code",
      "source": [
        "# def benchmark_workers(pt_path=\"Dataset/mnist.pt\", max_workers=12, batch_size=512):\n",
        "#     dataset = Dataset(pt_path)\n",
        "#     indices = np.arange(len(dataset))\n",
        "#     train_idx, _ = train_test_split(indices, test_size=0.2, shuffle=True)\n",
        "#     train_set = Subset(dataset, train_idx)\n",
        "#\n",
        "#\n",
        "#     for nw in range(max_workers + 1):\n",
        "#         loader = DataLoader(train_set, batch_size=batch_size, shuffle=True,\n",
        "#                                              num_workers=nw, pin_memory=True,\n",
        "#                                              persistent_workers=(nw > 0))\n",
        "#         torch.cuda.synchronize() if torch.cuda.is_available() else None\n",
        "#         t0 = time.perf_counter()\n",
        "#\n",
        "#         for x, y in loader:\n",
        "#             pass  # simulate one epoch\n",
        "#\n",
        "#         torch.cuda.synchronize() if torch.cuda.is_available() else None\n",
        "#         t1 = time.perf_counter()\n",
        "#         print(f\"num_workers={nw:<2} | time: {t1 - t0:.3f} sec\")\n",
        "#\n",
        "# benchmark_workers()"
      ],
      "id": "db6bec0f3c180323",
      "outputs": [],
      "execution_count": 7
    },
    {
      "metadata": {
        "ExecuteTime": {
          "end_time": "2025-07-15T17:25:49.990921Z",
          "start_time": "2025-07-15T17:25:49.977268Z"
        },
        "id": "3dd6cf5f6453534d"
      },
      "cell_type": "code",
      "source": [
        "class Dataloaders:\n",
        "    def __init__(self, dataset_cls):\n",
        "        self.dataset_cls = dataset_cls\n",
        "\n",
        "    def get(self, pt_path, batch_size=None, test_size=0.09, num_workers=0):\n",
        "        dataset = self.dataset_cls(pt_path)\n",
        "\n",
        "        indices = np.arange(len(dataset))\n",
        "        train_idx, test_idx = train_test_split(indices, test_size=test_size, shuffle=True)\n",
        "\n",
        "        train_set = Subset(dataset, train_idx)\n",
        "        test_set = Subset(dataset, test_idx)\n",
        "\n",
        "        effective_batch_size = len(train_set) if batch_size is None else batch_size\n",
        "\n",
        "        train_loader = DataLoader(train_set, batch_size=effective_batch_size, shuffle=True,\n",
        "                                  num_workers=num_workers, pin_memory=True,\n",
        "                                  persistent_workers=(num_workers > 0))\n",
        "\n",
        "        test_loader = DataLoader(test_set, batch_size=len(test_set) if batch_size is None else batch_size,\n",
        "                                 shuffle=False, num_workers=num_workers, pin_memory=True,\n",
        "                                 persistent_workers=(num_workers > 0))\n",
        "\n",
        "        return train_loader, test_loader\n"
      ],
      "id": "3dd6cf5f6453534d",
      "outputs": [],
      "execution_count": 8
    },
    {
      "metadata": {
        "ExecuteTime": {
          "end_time": "2025-07-15T17:25:51.647323Z",
          "start_time": "2025-07-15T17:25:50.056080Z"
        },
        "id": "11c2a8a8b2b959e8",
        "outputId": "b6643424-6d7b-4d85-fc05-3a65edc0968f",
        "colab": {
          "base_uri": "https://localhost:8080/"
        }
      },
      "cell_type": "code",
      "source": [
        "loaders = Dataloaders(Dataset)\n",
        "\n",
        "train_loader, test_loader = loaders.get(\"/content/drive/MyDrive/Dataset/mnist.pt\", batch_size=None)\n",
        "\n",
        "for x, y in train_loader:\n",
        "    x = x.to(device, non_blocking=True)\n",
        "    y = y.to(device, non_blocking=True)\n",
        "\n",
        "\n",
        "    print(x.shape, y.shape)\n",
        "    break\n"
      ],
      "id": "11c2a8a8b2b959e8",
      "outputs": [
        {
          "output_type": "stream",
          "name": "stdout",
          "text": [
            "torch.Size([63700, 784]) torch.Size([63700])\n"
          ]
        }
      ],
      "execution_count": 11
    },
    {
      "metadata": {
        "ExecuteTime": {
          "end_time": "2025-07-15T17:25:51.725894Z",
          "start_time": "2025-07-15T17:25:51.711467Z"
        },
        "id": "96d7d38e7448051c"
      },
      "cell_type": "code",
      "source": [
        "class Scaling(nn.Module):\n",
        "    def __init__(self, input_tensor: torch.Tensor, bounds=(0.0, 255.0)):\n",
        "        super().__init__()\n",
        "\n",
        "        self.device = input_tensor.device\n",
        "        self.input_dtype = input_tensor.dtype\n",
        "\n",
        "        min_val = input_tensor.min()\n",
        "        max_val = input_tensor.max()\n",
        "\n",
        "        lower, upper = map(float, bounds)\n",
        "        delta_mm = max_val - min_val\n",
        "        delta_ul = upper - lower\n",
        "\n",
        "        a = delta_mm + delta_ul\n",
        "        b = lower * delta_mm + min_val * delta_ul\n",
        "        c = 2 * delta_mm * delta_ul\n",
        "\n",
        "        self.register_buffer(\"a\", a)\n",
        "        self.register_buffer(\"b\", b)\n",
        "        self.register_buffer(\"c\", c)\n",
        "\n",
        "    def forward(self, input_tensor: torch.Tensor):\n",
        "        if self.c == 0: return input_tensor\n",
        "        return (self.a * input_tensor - self.b) / self.c\n",
        "\n",
        "    @torch.no_grad()\n",
        "    def inverse(self, scaled_tensor: torch.Tensor):\n",
        "        if self.c == 0: return scaled_tensor\n",
        "        return (self.c * scaled_tensor + self.b) / self.a\n"
      ],
      "id": "96d7d38e7448051c",
      "outputs": [],
      "execution_count": 12
    },
    {
      "metadata": {
        "ExecuteTime": {
          "end_time": "2025-07-15T17:25:51.786718Z",
          "start_time": "2025-07-15T17:25:51.773096Z"
        },
        "id": "e73ffe0aba248cc3"
      },
      "cell_type": "code",
      "source": [
        "class Classifier(nn.Module):\n",
        "    def __init__(self, categories: int):\n",
        "        super().__init__()\n",
        "        self.categories = categories\n",
        "\n",
        "    def forward(self, labels: torch.Tensor) -> torch.Tensor:\n",
        "        return F.one_hot(labels.view(-1), num_classes=self.categories).float()\n",
        "\n",
        "    @torch.no_grad()\n",
        "    def inverse(self, one_hot_tensor: torch.Tensor) -> torch.Tensor:\n",
        "        return one_hot_tensor.argmax(dim=1, keepdim=True)\n"
      ],
      "id": "e73ffe0aba248cc3",
      "outputs": [],
      "execution_count": 13
    },
    {
      "metadata": {
        "ExecuteTime": {
          "end_time": "2025-07-15T17:25:53.260341Z",
          "start_time": "2025-07-15T17:25:51.836592Z"
        },
        "id": "8c6739e09e48f39f",
        "outputId": "4a59554d-e65e-4be0-89a6-bfbe43ca4683",
        "colab": {
          "base_uri": "https://localhost:8080/"
        }
      },
      "cell_type": "code",
      "source": [
        "for x, y in train_loader:\n",
        "    x = x.to(device, non_blocking=True)\n",
        "    y = y.to(device, non_blocking=True)\n",
        "\n",
        "\n",
        "    bounds = (0.0, 255.0)\n",
        "    Scaling1 = Scaling(x, bounds)\n",
        "    Classifier1 = Classifier(10).to(device, non_blocking=True)\n",
        "\n",
        "\n",
        "    print(x.shape, y.shape)\n",
        "    break"
      ],
      "id": "8c6739e09e48f39f",
      "outputs": [
        {
          "output_type": "stream",
          "name": "stdout",
          "text": [
            "torch.Size([63700, 784]) torch.Size([63700])\n"
          ]
        }
      ],
      "execution_count": 15
    },
    {
      "metadata": {
        "ExecuteTime": {
          "end_time": "2025-07-15T17:25:53.323161Z",
          "start_time": "2025-07-15T17:25:53.309044Z"
        },
        "id": "39468dbc014eee32"
      },
      "cell_type": "code",
      "source": [
        "class NN(nn.Module):\n",
        "    def __init__(self):\n",
        "        super().__init__()\n",
        "        self.layer_sizes = [784, 107, 26, 10]\n",
        "        self.net = nn.Sequential(\n",
        "            nn.Linear(self.layer_sizes[0], self.layer_sizes[1], bias=True),\n",
        "            nn.Sigmoid(),                       # fused activation\n",
        "            nn.Linear(self.layer_sizes[1], self.layer_sizes[2], bias=True),\n",
        "            nn.ReLU(inplace=True),              # in‑place\n",
        "            nn.Linear(self.layer_sizes[2], self.layer_sizes[3], bias=True),\n",
        "            nn.Softmax(dim=1)\n",
        "        )\n",
        "\n",
        "        nn.init.xavier_uniform_(self.net[0].weight)\n",
        "        nn.init.uniform_(self.net[0].bias, -1.0/math.sqrt(self.layer_sizes[0]), 1.0/math.sqrt(self.layer_sizes[0]))\n",
        "        nn.init.kaiming_normal_(self.net[2].weight, nonlinearity='relu')\n",
        "        nn.init.uniform_(self.net[2].bias, -1.0/math.sqrt(self.layer_sizes[1]), 1.0/math.sqrt(self.layer_sizes[1]))\n",
        "        nn.init.xavier_normal_(self.net[4].weight)\n",
        "        nn.init.uniform_(self.net[4].bias, -1.0/math.sqrt(self.layer_sizes[2]), 1.0/math.sqrt(self.layer_sizes[2]))\n",
        "\n",
        "        self.loss_fn = nn.CrossEntropyLoss()\n",
        "\n",
        "    def forward(self, x):\n",
        "        x = x.contiguous()\n",
        "        return self.net(x)"
      ],
      "id": "39468dbc014eee32",
      "outputs": [],
      "execution_count": 16
    },
    {
      "metadata": {
        "ExecuteTime": {
          "end_time": "2025-07-15T17:25:54.609715Z",
          "start_time": "2025-07-15T17:25:53.371304Z"
        },
        "id": "7e5d49dc6cce7bb7",
        "outputId": "24cf7dcc-73f9-4a47-b745-6370b89c41b5",
        "colab": {
          "base_uri": "https://localhost:8080/"
        }
      },
      "cell_type": "code",
      "source": [
        "for x, y in train_loader:\n",
        "    x = x.to(device, non_blocking=True)\n",
        "    y = y.to(device, non_blocking=True)\n",
        "\n",
        "    bounds = (0.0, 255.0)\n",
        "    Scaling1 = Scaling(x, bounds)\n",
        "    Classifier1 = Classifier(10).to(device, non_blocking=True)\n",
        "    net = NN().to(device, non_blocking=True)\n",
        "\n",
        "    x_scaled = Scaling1(x)\n",
        "    y_encoded = Classifier1(y)\n",
        "\n",
        "    yHAT = net(x_scaled)\n",
        "    loss = net.loss_fn(yHAT, y)\n",
        "    print(\"CrossEntropy Loss:\", loss.item())\n",
        "\n",
        "\n",
        "    print(x_scaled.shape, y_encoded.shape, yHAT.shape)\n",
        "    break\n"
      ],
      "id": "7e5d49dc6cce7bb7",
      "outputs": [
        {
          "output_type": "stream",
          "name": "stdout",
          "text": [
            "CrossEntropy Loss: 2.303034543991089\n",
            "torch.Size([63700, 784]) torch.Size([63700, 10]) torch.Size([63700, 10])\n"
          ]
        }
      ],
      "execution_count": 19
    },
    {
      "metadata": {
        "ExecuteTime": {
          "end_time": "2025-07-15T17:25:54.672220Z",
          "start_time": "2025-07-15T17:25:54.657614Z"
        },
        "id": "40fdf6e3b4ca6f8c"
      },
      "cell_type": "code",
      "source": [
        "class UltraFastTrainer:\n",
        "    def __init__(\n",
        "        self,\n",
        "        model: nn.Module,\n",
        "        loss_fn: nn.Module,\n",
        "        optimizer_cls=torch.optim.Adam,\n",
        "        lr=1e-3,\n",
        "        max_epochs=50,\n",
        "        clip_grad_norm=1.0,\n",
        "        use_amp=True,\n",
        "        use_tqdm=False,\n",
        "        save_path=None\n",
        "    ):\n",
        "        self.model = model.to(device)\n",
        "        self.loss_fn = loss_fn\n",
        "        self.optimizer = optimizer_cls(model.parameters(), lr=lr)\n",
        "        self.max_epochs = max_epochs\n",
        "        self.clip_grad_norm = clip_grad_norm\n",
        "        self.use_amp = use_amp\n",
        "        self.save_path = save_path\n",
        "        self.use_tqdm = use_tqdm\n",
        "\n",
        "        self.scaler_amp = GradScaler(enabled=use_amp)\n",
        "        self.loss_history = []\n",
        "\n",
        "    def _prefetch_loader(self, loader):\n",
        "        for x, y in loader:\n",
        "            yield x.to(device, non_blocking=True), y.to(device, non_blocking=True)\n",
        "\n",
        "    def train(self, train_loader):\n",
        "        self.model.train()\n",
        "\n",
        "        x_sample, _ = next(iter(train_loader))\n",
        "        scaler = Scaling(x_sample.to(device))\n",
        "\n",
        "        for epoch in range(1, self.max_epochs + 1):\n",
        "            start = time.perf_counter()\n",
        "            total_loss = 0.0\n",
        "\n",
        "            iterable = self._prefetch_loader(train_loader)\n",
        "            if self.use_tqdm:\n",
        "                iterable = tqdm(iterable, desc=f\"Epoch {epoch}\", leave=False)\n",
        "\n",
        "            for x, y in iterable:\n",
        "                x = scaler(x)\n",
        "\n",
        "                self.optimizer.zero_grad(set_to_none=True)\n",
        "\n",
        "                with autocast(device_type=device.type, enabled=self.use_amp):\n",
        "                    y_pred = self.model(x)\n",
        "                    loss = self.loss_fn(y_pred, y)\n",
        "\n",
        "                self.scaler_amp.scale(loss).backward()\n",
        "\n",
        "                if self.clip_grad_norm:\n",
        "                    self.scaler_amp.unscale_(self.optimizer)\n",
        "                    nn.utils.clip_grad_norm_(self.model.parameters(), self.clip_grad_norm)\n",
        "\n",
        "                self.scaler_amp.step(self.optimizer)\n",
        "                self.scaler_amp.update()\n",
        "\n",
        "                total_loss += loss.item()\n",
        "\n",
        "            avg_loss = total_loss / len(train_loader)\n",
        "            self.loss_history.append(avg_loss)\n",
        "\n",
        "            elapsed = time.perf_counter() - start\n",
        "            print(f\"Epoch {epoch:03d} | Loss: {avg_loss:.4f} | Time: {elapsed:.2f}s\")\n",
        "\n",
        "        if self.save_path:\n",
        "            torch.save(self.model.state_dict(), self.save_path)\n",
        "\n",
        "    def evaluate(self, test_loader):\n",
        "        self.model.eval()\n",
        "        correct, total = 0, 0\n",
        "\n",
        "        scaler = Scaling(next(iter(test_loader))[0].to(device))\n",
        "\n",
        "        with torch.no_grad():\n",
        "            for x, y in self._prefetch_loader(test_loader):\n",
        "                x = scaler(x)\n",
        "                pred = self.model(x).argmax(dim=1)\n",
        "                correct += (pred == y.view(-1)).sum().item()\n",
        "                total += y.size(0)\n",
        "\n",
        "        acc = correct / total\n",
        "        print(f\"Test Accuracy: {acc*100:.2f}%\")\n",
        "        return acc\n",
        "\n",
        "    def plot_loss(self):\n",
        "        plt.plot(self.loss_history)\n",
        "        plt.title(\"Loss Curve\")\n",
        "        plt.xlabel(\"Epoch\")\n",
        "        plt.ylabel(\"Loss\")\n",
        "        plt.grid(True)\n",
        "        plt.tight_layout()\n",
        "        plt.show()\n"
      ],
      "id": "40fdf6e3b4ca6f8c",
      "outputs": [],
      "execution_count": 20
    },
    {
      "metadata": {
        "ExecuteTime": {
          "end_time": "2025-07-15T17:28:10.646670Z",
          "start_time": "2025-07-15T17:25:54.720525Z"
        },
        "id": "42e64e84209dd5b4",
        "outputId": "2a090558-64fe-4a04-80d6-ee2c856ae25a",
        "colab": {
          "base_uri": "https://localhost:8080/",
          "height": 590
        }
      },
      "cell_type": "code",
      "source": [
        "model = NN()\n",
        "trainer = UltraFastTrainer(model, nn.CrossEntropyLoss(), max_epochs=5, use_amp=True)\n",
        "\n",
        "trainer.train(train_loader)\n",
        "trainer.evaluate(test_loader)\n",
        "trainer.plot_loss()\n"
      ],
      "id": "42e64e84209dd5b4",
      "outputs": [
        {
          "output_type": "stream",
          "name": "stdout",
          "text": [
            "Epoch 001 | Loss: 2.3032 | Time: 10.69s\n",
            "Epoch 002 | Loss: 2.2974 | Time: 9.54s\n",
            "Epoch 003 | Loss: 2.2913 | Time: 9.40s\n",
            "Epoch 004 | Loss: 2.2849 | Time: 10.08s\n",
            "Epoch 005 | Loss: 2.2780 | Time: 10.08s\n",
            "Test Accuracy: 21.30%\n"
          ]
        },
        {
          "output_type": "display_data",
          "data": {
            "text/plain": [
              "<Figure size 640x480 with 1 Axes>"
            ],
            "image/png": "[encoded data removed]"
          },
          "metadata": {}
        }
      ],
      "execution_count": 22
    },
    {
      "cell_type": "code",
      "source": [
        "activations = {}"
      ],
      "metadata": {
        "id": "8jbJRe1dB0xE"
      },
      "id": "8jbJRe1dB0xE",
      "execution_count": null,
      "outputs": []
    }
  ],
  "metadata": {
    "kernelspec": {
      "display_name": "Python [conda env:base] *",
      "language": "python",
      "name": "conda-base-py"
    },
    "language_info": {
      "codemirror_mode": {
        "name": "ipython",
        "version": 2
      },
      "file_extension": ".py",
      "mimetype": "text/x-python",
      "name": "python",
      "nbconvert_exporter": "python",
      "pygments_lexer": "ipython2",
      "version": "2.7.6"
    },
    "colab": {
      "provenance": []
    }
  },
  "nbformat": 4,
  "nbformat_minor": 5
}